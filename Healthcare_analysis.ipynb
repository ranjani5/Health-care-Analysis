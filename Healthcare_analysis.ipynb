{
  "nbformat": 4,
  "nbformat_minor": 0,
  "metadata": {
    "colab": {
      "name": "Healthcare_analysis.ipynb",
      "provenance": [],
      "collapsed_sections": []
    },
    "kernelspec": {
      "display_name": "Python 3",
      "language": "python",
      "name": "python3"
    },
    "language_info": {
      "codemirror_mode": {
        "name": "ipython",
        "version": 3
      },
      "file_extension": ".py",
      "mimetype": "text/x-python",
      "name": "python",
      "nbconvert_exporter": "python",
      "pygments_lexer": "ipython3",
      "version": "3.7.6"
    }
  },
  "cells": [
    {
      "cell_type": "code",
      "metadata": {
        "id": "GrxoRn766naT",
        "colab": {
          "base_uri": "https://localhost:8080/"
        },
        "outputId": "6de0786d-457c-4c8e-8365-4c14a57f589e"
      },
      "source": [
        "import pandas as pd\n",
        "import numpy as np\n",
        "import matplotlib.pyplot as plt\n",
        "import seaborn as sns\n",
        "%matplotlib inline\n",
        "from sklearn.preprocessing import LabelEncoder\n",
        "from sklearn.linear_model import LinearRegression\n",
        "import statsmodels.formula.api as smf\n",
        "from sklearn.model_selection import train_test_split\n",
        "from sklearn.metrics import mean_squared_error, r2_score\n"
      ],
      "execution_count": null,
      "outputs": [
        {
          "output_type": "stream",
          "text": [
            "/usr/local/lib/python3.7/dist-packages/statsmodels/tools/_testing.py:19: FutureWarning: pandas.util.testing is deprecated. Use the functions in the public API at pandas.testing instead.\n",
            "  import pandas.util.testing as tm\n"
          ],
          "name": "stderr"
        }
      ]
    },
    {
      "cell_type": "code",
      "metadata": {
        "colab": {
          "base_uri": "https://localhost:8080/"
        },
        "id": "_tlK1mhgRgl8",
        "outputId": "cf3afa5b-0644-4fdc-b952-d8a47d3c3273"
      },
      "source": [
        "from google.colab import drive\n",
        "drive.mount('/content/gdrive')"
      ],
      "execution_count": null,
      "outputs": [
        {
          "output_type": "stream",
          "text": [
            "Mounted at /content/gdrive\n"
          ],
          "name": "stdout"
        }
      ]
    },
    {
      "cell_type": "code",
      "metadata": {
        "id": "B1fFU6RGbrMY"
      },
      "source": [
        "df1=pd.read_csv('/content/gdrive/MyDrive/bill_amount.csv')\n",
        "df2=pd.read_csv('/content/gdrive/MyDrive/bill_id.csv')\n",
        "df3=pd.read_csv('/content/gdrive/MyDrive/clinical_data.csv')\n",
        "df4=pd.read_csv('/content/gdrive/MyDrive/demographics.csv')"
      ],
      "execution_count": null,
      "outputs": []
    },
    {
      "cell_type": "code",
      "metadata": {
        "colab": {
          "base_uri": "https://localhost:8080/",
          "height": 195
        },
        "id": "G7RXh6MwbdH4",
        "outputId": "e1d1d7f5-1afc-42df-b1a2-2715bcbb4e89"
      },
      "source": [
        "df5 = pd.merge(df1,df2,on= \"bill_id\")\n",
        "df5.head()"
      ],
      "execution_count": null,
      "outputs": [
        {
          "output_type": "execute_result",
          "data": {
            "text/html": [
              "<div>\n",
              "<style scoped>\n",
              "    .dataframe tbody tr th:only-of-type {\n",
              "        vertical-align: middle;\n",
              "    }\n",
              "\n",
              "    .dataframe tbody tr th {\n",
              "        vertical-align: top;\n",
              "    }\n",
              "\n",
              "    .dataframe thead th {\n",
              "        text-align: right;\n",
              "    }\n",
              "</style>\n",
              "<table border=\"1\" class=\"dataframe\">\n",
              "  <thead>\n",
              "    <tr style=\"text-align: right;\">\n",
              "      <th></th>\n",
              "      <th>bill_id</th>\n",
              "      <th>amount</th>\n",
              "      <th>patient_id</th>\n",
              "      <th>date_of_admission</th>\n",
              "    </tr>\n",
              "  </thead>\n",
              "  <tbody>\n",
              "    <tr>\n",
              "      <th>0</th>\n",
              "      <td>40315104</td>\n",
              "      <td>1552.634830</td>\n",
              "      <td>96a76ec5bbcb1d1562c40b9b972e356d</td>\n",
              "      <td>2012-10-22</td>\n",
              "    </tr>\n",
              "    <tr>\n",
              "      <th>1</th>\n",
              "      <td>2660045161</td>\n",
              "      <td>1032.011951</td>\n",
              "      <td>796de06efdad342d3f3a379dff0bd63c</td>\n",
              "      <td>2014-09-28</td>\n",
              "    </tr>\n",
              "    <tr>\n",
              "      <th>2</th>\n",
              "      <td>1148334643</td>\n",
              "      <td>6469.605351</td>\n",
              "      <td>1ce104904e9160cf3cfdb3c45b9ce4ff</td>\n",
              "      <td>2014-01-16</td>\n",
              "    </tr>\n",
              "    <tr>\n",
              "      <th>3</th>\n",
              "      <td>3818426276</td>\n",
              "      <td>755.965425</td>\n",
              "      <td>afdfe7216d84e13708a19cbca288379a</td>\n",
              "      <td>2013-01-22</td>\n",
              "    </tr>\n",
              "    <tr>\n",
              "      <th>4</th>\n",
              "      <td>9833541918</td>\n",
              "      <td>897.347816</td>\n",
              "      <td>b9a0c119dc07e07f88281964f3a4869f</td>\n",
              "      <td>2011-04-22</td>\n",
              "    </tr>\n",
              "  </tbody>\n",
              "</table>\n",
              "</div>"
            ],
            "text/plain": [
              "      bill_id       amount                        patient_id date_of_admission\n",
              "0    40315104  1552.634830  96a76ec5bbcb1d1562c40b9b972e356d        2012-10-22\n",
              "1  2660045161  1032.011951  796de06efdad342d3f3a379dff0bd63c        2014-09-28\n",
              "2  1148334643  6469.605351  1ce104904e9160cf3cfdb3c45b9ce4ff        2014-01-16\n",
              "3  3818426276   755.965425  afdfe7216d84e13708a19cbca288379a        2013-01-22\n",
              "4  9833541918   897.347816  b9a0c119dc07e07f88281964f3a4869f        2011-04-22"
            ]
          },
          "metadata": {
            "tags": []
          },
          "execution_count": 4
        }
      ]
    },
    {
      "cell_type": "code",
      "metadata": {
        "colab": {
          "base_uri": "https://localhost:8080/",
          "height": 215
        },
        "id": "VpjEJqZlbdH5",
        "outputId": "44f1b212-e333-40f1-9825-e3e819fa6321"
      },
      "source": [
        "df6 = pd.merge(df5,df3,left_on=\"patient_id\",right_on=\"id\")\n",
        "df6.head()"
      ],
      "execution_count": null,
      "outputs": [
        {
          "output_type": "execute_result",
          "data": {
            "text/html": [
              "<div>\n",
              "<style scoped>\n",
              "    .dataframe tbody tr th:only-of-type {\n",
              "        vertical-align: middle;\n",
              "    }\n",
              "\n",
              "    .dataframe tbody tr th {\n",
              "        vertical-align: top;\n",
              "    }\n",
              "\n",
              "    .dataframe thead th {\n",
              "        text-align: right;\n",
              "    }\n",
              "</style>\n",
              "<table border=\"1\" class=\"dataframe\">\n",
              "  <thead>\n",
              "    <tr style=\"text-align: right;\">\n",
              "      <th></th>\n",
              "      <th>bill_id</th>\n",
              "      <th>amount</th>\n",
              "      <th>patient_id</th>\n",
              "      <th>date_of_admission_x</th>\n",
              "      <th>id</th>\n",
              "      <th>date_of_admission_y</th>\n",
              "      <th>date_of_discharge</th>\n",
              "      <th>medical_history_1</th>\n",
              "      <th>medical_history_2</th>\n",
              "      <th>medical_history_3</th>\n",
              "      <th>medical_history_4</th>\n",
              "      <th>medical_history_5</th>\n",
              "      <th>medical_history_6</th>\n",
              "      <th>medical_history_7</th>\n",
              "      <th>preop_medication_1</th>\n",
              "      <th>preop_medication_2</th>\n",
              "      <th>preop_medication_3</th>\n",
              "      <th>preop_medication_4</th>\n",
              "      <th>preop_medication_5</th>\n",
              "      <th>preop_medication_6</th>\n",
              "      <th>symptom_1</th>\n",
              "      <th>symptom_2</th>\n",
              "      <th>symptom_3</th>\n",
              "      <th>symptom_4</th>\n",
              "      <th>symptom_5</th>\n",
              "      <th>lab_result_1</th>\n",
              "      <th>lab_result_2</th>\n",
              "      <th>lab_result_3</th>\n",
              "      <th>weight</th>\n",
              "      <th>height</th>\n",
              "    </tr>\n",
              "  </thead>\n",
              "  <tbody>\n",
              "    <tr>\n",
              "      <th>0</th>\n",
              "      <td>40315104</td>\n",
              "      <td>1552.634830</td>\n",
              "      <td>96a76ec5bbcb1d1562c40b9b972e356d</td>\n",
              "      <td>2012-10-22</td>\n",
              "      <td>96a76ec5bbcb1d1562c40b9b972e356d</td>\n",
              "      <td>2012-10-22</td>\n",
              "      <td>2012-11-03</td>\n",
              "      <td>0</td>\n",
              "      <td>0.0</td>\n",
              "      <td>0</td>\n",
              "      <td>0</td>\n",
              "      <td>0.0</td>\n",
              "      <td>0</td>\n",
              "      <td>1</td>\n",
              "      <td>0</td>\n",
              "      <td>0</td>\n",
              "      <td>1</td>\n",
              "      <td>1</td>\n",
              "      <td>1</td>\n",
              "      <td>1</td>\n",
              "      <td>1</td>\n",
              "      <td>1</td>\n",
              "      <td>1</td>\n",
              "      <td>1</td>\n",
              "      <td>1</td>\n",
              "      <td>17.6</td>\n",
              "      <td>31.8</td>\n",
              "      <td>98.0</td>\n",
              "      <td>65.1</td>\n",
              "      <td>166.0</td>\n",
              "    </tr>\n",
              "    <tr>\n",
              "      <th>1</th>\n",
              "      <td>7040712549</td>\n",
              "      <td>27923.446312</td>\n",
              "      <td>96a76ec5bbcb1d1562c40b9b972e356d</td>\n",
              "      <td>2012-10-22</td>\n",
              "      <td>96a76ec5bbcb1d1562c40b9b972e356d</td>\n",
              "      <td>2012-10-22</td>\n",
              "      <td>2012-11-03</td>\n",
              "      <td>0</td>\n",
              "      <td>0.0</td>\n",
              "      <td>0</td>\n",
              "      <td>0</td>\n",
              "      <td>0.0</td>\n",
              "      <td>0</td>\n",
              "      <td>1</td>\n",
              "      <td>0</td>\n",
              "      <td>0</td>\n",
              "      <td>1</td>\n",
              "      <td>1</td>\n",
              "      <td>1</td>\n",
              "      <td>1</td>\n",
              "      <td>1</td>\n",
              "      <td>1</td>\n",
              "      <td>1</td>\n",
              "      <td>1</td>\n",
              "      <td>1</td>\n",
              "      <td>17.6</td>\n",
              "      <td>31.8</td>\n",
              "      <td>98.0</td>\n",
              "      <td>65.1</td>\n",
              "      <td>166.0</td>\n",
              "    </tr>\n",
              "    <tr>\n",
              "      <th>2</th>\n",
              "      <td>1314727123</td>\n",
              "      <td>1952.978141</td>\n",
              "      <td>96a76ec5bbcb1d1562c40b9b972e356d</td>\n",
              "      <td>2012-10-22</td>\n",
              "      <td>96a76ec5bbcb1d1562c40b9b972e356d</td>\n",
              "      <td>2012-10-22</td>\n",
              "      <td>2012-11-03</td>\n",
              "      <td>0</td>\n",
              "      <td>0.0</td>\n",
              "      <td>0</td>\n",
              "      <td>0</td>\n",
              "      <td>0.0</td>\n",
              "      <td>0</td>\n",
              "      <td>1</td>\n",
              "      <td>0</td>\n",
              "      <td>0</td>\n",
              "      <td>1</td>\n",
              "      <td>1</td>\n",
              "      <td>1</td>\n",
              "      <td>1</td>\n",
              "      <td>1</td>\n",
              "      <td>1</td>\n",
              "      <td>1</td>\n",
              "      <td>1</td>\n",
              "      <td>1</td>\n",
              "      <td>17.6</td>\n",
              "      <td>31.8</td>\n",
              "      <td>98.0</td>\n",
              "      <td>65.1</td>\n",
              "      <td>166.0</td>\n",
              "    </tr>\n",
              "    <tr>\n",
              "      <th>3</th>\n",
              "      <td>1029762870</td>\n",
              "      <td>1244.994422</td>\n",
              "      <td>96a76ec5bbcb1d1562c40b9b972e356d</td>\n",
              "      <td>2012-10-22</td>\n",
              "      <td>96a76ec5bbcb1d1562c40b9b972e356d</td>\n",
              "      <td>2012-10-22</td>\n",
              "      <td>2012-11-03</td>\n",
              "      <td>0</td>\n",
              "      <td>0.0</td>\n",
              "      <td>0</td>\n",
              "      <td>0</td>\n",
              "      <td>0.0</td>\n",
              "      <td>0</td>\n",
              "      <td>1</td>\n",
              "      <td>0</td>\n",
              "      <td>0</td>\n",
              "      <td>1</td>\n",
              "      <td>1</td>\n",
              "      <td>1</td>\n",
              "      <td>1</td>\n",
              "      <td>1</td>\n",
              "      <td>1</td>\n",
              "      <td>1</td>\n",
              "      <td>1</td>\n",
              "      <td>1</td>\n",
              "      <td>17.6</td>\n",
              "      <td>31.8</td>\n",
              "      <td>98.0</td>\n",
              "      <td>65.1</td>\n",
              "      <td>166.0</td>\n",
              "    </tr>\n",
              "    <tr>\n",
              "      <th>4</th>\n",
              "      <td>2660045161</td>\n",
              "      <td>1032.011951</td>\n",
              "      <td>796de06efdad342d3f3a379dff0bd63c</td>\n",
              "      <td>2014-09-28</td>\n",
              "      <td>796de06efdad342d3f3a379dff0bd63c</td>\n",
              "      <td>2011-05-26</td>\n",
              "      <td>2011-06-10</td>\n",
              "      <td>0</td>\n",
              "      <td>0.0</td>\n",
              "      <td>1</td>\n",
              "      <td>0</td>\n",
              "      <td>0.0</td>\n",
              "      <td>0</td>\n",
              "      <td>0</td>\n",
              "      <td>1</td>\n",
              "      <td>0</td>\n",
              "      <td>1</td>\n",
              "      <td>1</td>\n",
              "      <td>1</td>\n",
              "      <td>1</td>\n",
              "      <td>1</td>\n",
              "      <td>0</td>\n",
              "      <td>0</td>\n",
              "      <td>1</td>\n",
              "      <td>0</td>\n",
              "      <td>15.4</td>\n",
              "      <td>28.8</td>\n",
              "      <td>68.0</td>\n",
              "      <td>74.5</td>\n",
              "      <td>162.0</td>\n",
              "    </tr>\n",
              "  </tbody>\n",
              "</table>\n",
              "</div>"
            ],
            "text/plain": [
              "      bill_id        amount  ... weight height\n",
              "0    40315104   1552.634830  ...   65.1  166.0\n",
              "1  7040712549  27923.446312  ...   65.1  166.0\n",
              "2  1314727123   1952.978141  ...   65.1  166.0\n",
              "3  1029762870   1244.994422  ...   65.1  166.0\n",
              "4  2660045161   1032.011951  ...   74.5  162.0\n",
              "\n",
              "[5 rows x 30 columns]"
            ]
          },
          "metadata": {
            "tags": []
          },
          "execution_count": 5
        }
      ]
    },
    {
      "cell_type": "code",
      "metadata": {
        "colab": {
          "base_uri": "https://localhost:8080/",
          "height": 215
        },
        "id": "_XI-ez0abdH5",
        "outputId": "5ac59b2b-910e-43d8-e616-2ce5963b8398"
      },
      "source": [
        "df =pd.merge(df6,df4,left_on=\"patient_id\",right_on=\"patient_id\")\n",
        "df.head()"
      ],
      "execution_count": null,
      "outputs": [
        {
          "output_type": "execute_result",
          "data": {
            "text/html": [
              "<div>\n",
              "<style scoped>\n",
              "    .dataframe tbody tr th:only-of-type {\n",
              "        vertical-align: middle;\n",
              "    }\n",
              "\n",
              "    .dataframe tbody tr th {\n",
              "        vertical-align: top;\n",
              "    }\n",
              "\n",
              "    .dataframe thead th {\n",
              "        text-align: right;\n",
              "    }\n",
              "</style>\n",
              "<table border=\"1\" class=\"dataframe\">\n",
              "  <thead>\n",
              "    <tr style=\"text-align: right;\">\n",
              "      <th></th>\n",
              "      <th>bill_id</th>\n",
              "      <th>amount</th>\n",
              "      <th>patient_id</th>\n",
              "      <th>date_of_admission_x</th>\n",
              "      <th>id</th>\n",
              "      <th>date_of_admission_y</th>\n",
              "      <th>date_of_discharge</th>\n",
              "      <th>medical_history_1</th>\n",
              "      <th>medical_history_2</th>\n",
              "      <th>medical_history_3</th>\n",
              "      <th>medical_history_4</th>\n",
              "      <th>medical_history_5</th>\n",
              "      <th>medical_history_6</th>\n",
              "      <th>medical_history_7</th>\n",
              "      <th>preop_medication_1</th>\n",
              "      <th>preop_medication_2</th>\n",
              "      <th>preop_medication_3</th>\n",
              "      <th>preop_medication_4</th>\n",
              "      <th>preop_medication_5</th>\n",
              "      <th>preop_medication_6</th>\n",
              "      <th>symptom_1</th>\n",
              "      <th>symptom_2</th>\n",
              "      <th>symptom_3</th>\n",
              "      <th>symptom_4</th>\n",
              "      <th>symptom_5</th>\n",
              "      <th>lab_result_1</th>\n",
              "      <th>lab_result_2</th>\n",
              "      <th>lab_result_3</th>\n",
              "      <th>weight</th>\n",
              "      <th>height</th>\n",
              "      <th>gender</th>\n",
              "      <th>race</th>\n",
              "      <th>resident_status</th>\n",
              "      <th>date_of_birth</th>\n",
              "    </tr>\n",
              "  </thead>\n",
              "  <tbody>\n",
              "    <tr>\n",
              "      <th>0</th>\n",
              "      <td>40315104</td>\n",
              "      <td>1552.634830</td>\n",
              "      <td>96a76ec5bbcb1d1562c40b9b972e356d</td>\n",
              "      <td>2012-10-22</td>\n",
              "      <td>96a76ec5bbcb1d1562c40b9b972e356d</td>\n",
              "      <td>2012-10-22</td>\n",
              "      <td>2012-11-03</td>\n",
              "      <td>0</td>\n",
              "      <td>0.0</td>\n",
              "      <td>0</td>\n",
              "      <td>0</td>\n",
              "      <td>0.0</td>\n",
              "      <td>0</td>\n",
              "      <td>1</td>\n",
              "      <td>0</td>\n",
              "      <td>0</td>\n",
              "      <td>1</td>\n",
              "      <td>1</td>\n",
              "      <td>1</td>\n",
              "      <td>1</td>\n",
              "      <td>1</td>\n",
              "      <td>1</td>\n",
              "      <td>1</td>\n",
              "      <td>1</td>\n",
              "      <td>1</td>\n",
              "      <td>17.6</td>\n",
              "      <td>31.8</td>\n",
              "      <td>98.0</td>\n",
              "      <td>65.1</td>\n",
              "      <td>166.0</td>\n",
              "      <td>Female</td>\n",
              "      <td>Malay</td>\n",
              "      <td>Singaporean</td>\n",
              "      <td>1967-05-15</td>\n",
              "    </tr>\n",
              "    <tr>\n",
              "      <th>1</th>\n",
              "      <td>7040712549</td>\n",
              "      <td>27923.446312</td>\n",
              "      <td>96a76ec5bbcb1d1562c40b9b972e356d</td>\n",
              "      <td>2012-10-22</td>\n",
              "      <td>96a76ec5bbcb1d1562c40b9b972e356d</td>\n",
              "      <td>2012-10-22</td>\n",
              "      <td>2012-11-03</td>\n",
              "      <td>0</td>\n",
              "      <td>0.0</td>\n",
              "      <td>0</td>\n",
              "      <td>0</td>\n",
              "      <td>0.0</td>\n",
              "      <td>0</td>\n",
              "      <td>1</td>\n",
              "      <td>0</td>\n",
              "      <td>0</td>\n",
              "      <td>1</td>\n",
              "      <td>1</td>\n",
              "      <td>1</td>\n",
              "      <td>1</td>\n",
              "      <td>1</td>\n",
              "      <td>1</td>\n",
              "      <td>1</td>\n",
              "      <td>1</td>\n",
              "      <td>1</td>\n",
              "      <td>17.6</td>\n",
              "      <td>31.8</td>\n",
              "      <td>98.0</td>\n",
              "      <td>65.1</td>\n",
              "      <td>166.0</td>\n",
              "      <td>Female</td>\n",
              "      <td>Malay</td>\n",
              "      <td>Singaporean</td>\n",
              "      <td>1967-05-15</td>\n",
              "    </tr>\n",
              "    <tr>\n",
              "      <th>2</th>\n",
              "      <td>1314727123</td>\n",
              "      <td>1952.978141</td>\n",
              "      <td>96a76ec5bbcb1d1562c40b9b972e356d</td>\n",
              "      <td>2012-10-22</td>\n",
              "      <td>96a76ec5bbcb1d1562c40b9b972e356d</td>\n",
              "      <td>2012-10-22</td>\n",
              "      <td>2012-11-03</td>\n",
              "      <td>0</td>\n",
              "      <td>0.0</td>\n",
              "      <td>0</td>\n",
              "      <td>0</td>\n",
              "      <td>0.0</td>\n",
              "      <td>0</td>\n",
              "      <td>1</td>\n",
              "      <td>0</td>\n",
              "      <td>0</td>\n",
              "      <td>1</td>\n",
              "      <td>1</td>\n",
              "      <td>1</td>\n",
              "      <td>1</td>\n",
              "      <td>1</td>\n",
              "      <td>1</td>\n",
              "      <td>1</td>\n",
              "      <td>1</td>\n",
              "      <td>1</td>\n",
              "      <td>17.6</td>\n",
              "      <td>31.8</td>\n",
              "      <td>98.0</td>\n",
              "      <td>65.1</td>\n",
              "      <td>166.0</td>\n",
              "      <td>Female</td>\n",
              "      <td>Malay</td>\n",
              "      <td>Singaporean</td>\n",
              "      <td>1967-05-15</td>\n",
              "    </tr>\n",
              "    <tr>\n",
              "      <th>3</th>\n",
              "      <td>1029762870</td>\n",
              "      <td>1244.994422</td>\n",
              "      <td>96a76ec5bbcb1d1562c40b9b972e356d</td>\n",
              "      <td>2012-10-22</td>\n",
              "      <td>96a76ec5bbcb1d1562c40b9b972e356d</td>\n",
              "      <td>2012-10-22</td>\n",
              "      <td>2012-11-03</td>\n",
              "      <td>0</td>\n",
              "      <td>0.0</td>\n",
              "      <td>0</td>\n",
              "      <td>0</td>\n",
              "      <td>0.0</td>\n",
              "      <td>0</td>\n",
              "      <td>1</td>\n",
              "      <td>0</td>\n",
              "      <td>0</td>\n",
              "      <td>1</td>\n",
              "      <td>1</td>\n",
              "      <td>1</td>\n",
              "      <td>1</td>\n",
              "      <td>1</td>\n",
              "      <td>1</td>\n",
              "      <td>1</td>\n",
              "      <td>1</td>\n",
              "      <td>1</td>\n",
              "      <td>17.6</td>\n",
              "      <td>31.8</td>\n",
              "      <td>98.0</td>\n",
              "      <td>65.1</td>\n",
              "      <td>166.0</td>\n",
              "      <td>Female</td>\n",
              "      <td>Malay</td>\n",
              "      <td>Singaporean</td>\n",
              "      <td>1967-05-15</td>\n",
              "    </tr>\n",
              "    <tr>\n",
              "      <th>4</th>\n",
              "      <td>2660045161</td>\n",
              "      <td>1032.011951</td>\n",
              "      <td>796de06efdad342d3f3a379dff0bd63c</td>\n",
              "      <td>2014-09-28</td>\n",
              "      <td>796de06efdad342d3f3a379dff0bd63c</td>\n",
              "      <td>2011-05-26</td>\n",
              "      <td>2011-06-10</td>\n",
              "      <td>0</td>\n",
              "      <td>0.0</td>\n",
              "      <td>1</td>\n",
              "      <td>0</td>\n",
              "      <td>0.0</td>\n",
              "      <td>0</td>\n",
              "      <td>0</td>\n",
              "      <td>1</td>\n",
              "      <td>0</td>\n",
              "      <td>1</td>\n",
              "      <td>1</td>\n",
              "      <td>1</td>\n",
              "      <td>1</td>\n",
              "      <td>1</td>\n",
              "      <td>0</td>\n",
              "      <td>0</td>\n",
              "      <td>1</td>\n",
              "      <td>0</td>\n",
              "      <td>15.4</td>\n",
              "      <td>28.8</td>\n",
              "      <td>68.0</td>\n",
              "      <td>74.5</td>\n",
              "      <td>162.0</td>\n",
              "      <td>Female</td>\n",
              "      <td>chinese</td>\n",
              "      <td>Singapore citizen</td>\n",
              "      <td>1973-05-28</td>\n",
              "    </tr>\n",
              "  </tbody>\n",
              "</table>\n",
              "</div>"
            ],
            "text/plain": [
              "      bill_id        amount  ...    resident_status date_of_birth\n",
              "0    40315104   1552.634830  ...        Singaporean    1967-05-15\n",
              "1  7040712549  27923.446312  ...        Singaporean    1967-05-15\n",
              "2  1314727123   1952.978141  ...        Singaporean    1967-05-15\n",
              "3  1029762870   1244.994422  ...        Singaporean    1967-05-15\n",
              "4  2660045161   1032.011951  ...  Singapore citizen    1973-05-28\n",
              "\n",
              "[5 rows x 34 columns]"
            ]
          },
          "metadata": {
            "tags": []
          },
          "execution_count": 6
        }
      ]
    },
    {
      "cell_type": "markdown",
      "metadata": {
        "id": "xO2dURLDcFh1"
      },
      "source": [
        " or by concat also we can join \n",
        "\n",
        " df5 = [df1, df2, df3, df4]\n",
        "\n",
        " df = pd.concat(df5)\n",
        "\n",
        " df.head()"
      ]
    },
    {
      "cell_type": "code",
      "metadata": {
        "id": "Wb61Sbm5bdH6"
      },
      "source": [
        "df.replace(to_replace = \"m\",value = \"Male\",inplace=True)\n",
        "df.replace(to_replace = \"f\",value = \"Female\",inplace=True)"
      ],
      "execution_count": null,
      "outputs": []
    },
    {
      "cell_type": "code",
      "metadata": {
        "colab": {
          "base_uri": "https://localhost:8080/",
          "height": 422
        },
        "id": "lk1-NFQTbdH6",
        "outputId": "d7fff1e9-0804-476b-ae36-5e01d7db490d"
      },
      "source": [
        "df"
      ],
      "execution_count": null,
      "outputs": [
        {
          "output_type": "execute_result",
          "data": {
            "text/html": [
              "<div>\n",
              "<style scoped>\n",
              "    .dataframe tbody tr th:only-of-type {\n",
              "        vertical-align: middle;\n",
              "    }\n",
              "\n",
              "    .dataframe tbody tr th {\n",
              "        vertical-align: top;\n",
              "    }\n",
              "\n",
              "    .dataframe thead th {\n",
              "        text-align: right;\n",
              "    }\n",
              "</style>\n",
              "<table border=\"1\" class=\"dataframe\">\n",
              "  <thead>\n",
              "    <tr style=\"text-align: right;\">\n",
              "      <th></th>\n",
              "      <th>bill_id</th>\n",
              "      <th>amount</th>\n",
              "      <th>patient_id</th>\n",
              "      <th>date_of_admission_x</th>\n",
              "      <th>id</th>\n",
              "      <th>date_of_admission_y</th>\n",
              "      <th>date_of_discharge</th>\n",
              "      <th>medical_history_1</th>\n",
              "      <th>medical_history_2</th>\n",
              "      <th>medical_history_3</th>\n",
              "      <th>medical_history_4</th>\n",
              "      <th>medical_history_5</th>\n",
              "      <th>medical_history_6</th>\n",
              "      <th>medical_history_7</th>\n",
              "      <th>preop_medication_1</th>\n",
              "      <th>preop_medication_2</th>\n",
              "      <th>preop_medication_3</th>\n",
              "      <th>preop_medication_4</th>\n",
              "      <th>preop_medication_5</th>\n",
              "      <th>preop_medication_6</th>\n",
              "      <th>symptom_1</th>\n",
              "      <th>symptom_2</th>\n",
              "      <th>symptom_3</th>\n",
              "      <th>symptom_4</th>\n",
              "      <th>symptom_5</th>\n",
              "      <th>lab_result_1</th>\n",
              "      <th>lab_result_2</th>\n",
              "      <th>lab_result_3</th>\n",
              "      <th>weight</th>\n",
              "      <th>height</th>\n",
              "      <th>gender</th>\n",
              "      <th>race</th>\n",
              "      <th>resident_status</th>\n",
              "      <th>date_of_birth</th>\n",
              "    </tr>\n",
              "  </thead>\n",
              "  <tbody>\n",
              "    <tr>\n",
              "      <th>0</th>\n",
              "      <td>40315104</td>\n",
              "      <td>1552.634830</td>\n",
              "      <td>96a76ec5bbcb1d1562c40b9b972e356d</td>\n",
              "      <td>2012-10-22</td>\n",
              "      <td>96a76ec5bbcb1d1562c40b9b972e356d</td>\n",
              "      <td>2012-10-22</td>\n",
              "      <td>2012-11-03</td>\n",
              "      <td>0</td>\n",
              "      <td>0.0</td>\n",
              "      <td>0</td>\n",
              "      <td>0</td>\n",
              "      <td>0.0</td>\n",
              "      <td>0</td>\n",
              "      <td>1</td>\n",
              "      <td>0</td>\n",
              "      <td>0</td>\n",
              "      <td>1</td>\n",
              "      <td>1</td>\n",
              "      <td>1</td>\n",
              "      <td>1</td>\n",
              "      <td>1</td>\n",
              "      <td>1</td>\n",
              "      <td>1</td>\n",
              "      <td>1</td>\n",
              "      <td>1</td>\n",
              "      <td>17.6</td>\n",
              "      <td>31.8</td>\n",
              "      <td>98.0</td>\n",
              "      <td>65.1</td>\n",
              "      <td>166.0</td>\n",
              "      <td>Female</td>\n",
              "      <td>Malay</td>\n",
              "      <td>Singaporean</td>\n",
              "      <td>1967-05-15</td>\n",
              "    </tr>\n",
              "    <tr>\n",
              "      <th>1</th>\n",
              "      <td>7040712549</td>\n",
              "      <td>27923.446312</td>\n",
              "      <td>96a76ec5bbcb1d1562c40b9b972e356d</td>\n",
              "      <td>2012-10-22</td>\n",
              "      <td>96a76ec5bbcb1d1562c40b9b972e356d</td>\n",
              "      <td>2012-10-22</td>\n",
              "      <td>2012-11-03</td>\n",
              "      <td>0</td>\n",
              "      <td>0.0</td>\n",
              "      <td>0</td>\n",
              "      <td>0</td>\n",
              "      <td>0.0</td>\n",
              "      <td>0</td>\n",
              "      <td>1</td>\n",
              "      <td>0</td>\n",
              "      <td>0</td>\n",
              "      <td>1</td>\n",
              "      <td>1</td>\n",
              "      <td>1</td>\n",
              "      <td>1</td>\n",
              "      <td>1</td>\n",
              "      <td>1</td>\n",
              "      <td>1</td>\n",
              "      <td>1</td>\n",
              "      <td>1</td>\n",
              "      <td>17.6</td>\n",
              "      <td>31.8</td>\n",
              "      <td>98.0</td>\n",
              "      <td>65.1</td>\n",
              "      <td>166.0</td>\n",
              "      <td>Female</td>\n",
              "      <td>Malay</td>\n",
              "      <td>Singaporean</td>\n",
              "      <td>1967-05-15</td>\n",
              "    </tr>\n",
              "    <tr>\n",
              "      <th>2</th>\n",
              "      <td>1314727123</td>\n",
              "      <td>1952.978141</td>\n",
              "      <td>96a76ec5bbcb1d1562c40b9b972e356d</td>\n",
              "      <td>2012-10-22</td>\n",
              "      <td>96a76ec5bbcb1d1562c40b9b972e356d</td>\n",
              "      <td>2012-10-22</td>\n",
              "      <td>2012-11-03</td>\n",
              "      <td>0</td>\n",
              "      <td>0.0</td>\n",
              "      <td>0</td>\n",
              "      <td>0</td>\n",
              "      <td>0.0</td>\n",
              "      <td>0</td>\n",
              "      <td>1</td>\n",
              "      <td>0</td>\n",
              "      <td>0</td>\n",
              "      <td>1</td>\n",
              "      <td>1</td>\n",
              "      <td>1</td>\n",
              "      <td>1</td>\n",
              "      <td>1</td>\n",
              "      <td>1</td>\n",
              "      <td>1</td>\n",
              "      <td>1</td>\n",
              "      <td>1</td>\n",
              "      <td>17.6</td>\n",
              "      <td>31.8</td>\n",
              "      <td>98.0</td>\n",
              "      <td>65.1</td>\n",
              "      <td>166.0</td>\n",
              "      <td>Female</td>\n",
              "      <td>Malay</td>\n",
              "      <td>Singaporean</td>\n",
              "      <td>1967-05-15</td>\n",
              "    </tr>\n",
              "    <tr>\n",
              "      <th>3</th>\n",
              "      <td>1029762870</td>\n",
              "      <td>1244.994422</td>\n",
              "      <td>96a76ec5bbcb1d1562c40b9b972e356d</td>\n",
              "      <td>2012-10-22</td>\n",
              "      <td>96a76ec5bbcb1d1562c40b9b972e356d</td>\n",
              "      <td>2012-10-22</td>\n",
              "      <td>2012-11-03</td>\n",
              "      <td>0</td>\n",
              "      <td>0.0</td>\n",
              "      <td>0</td>\n",
              "      <td>0</td>\n",
              "      <td>0.0</td>\n",
              "      <td>0</td>\n",
              "      <td>1</td>\n",
              "      <td>0</td>\n",
              "      <td>0</td>\n",
              "      <td>1</td>\n",
              "      <td>1</td>\n",
              "      <td>1</td>\n",
              "      <td>1</td>\n",
              "      <td>1</td>\n",
              "      <td>1</td>\n",
              "      <td>1</td>\n",
              "      <td>1</td>\n",
              "      <td>1</td>\n",
              "      <td>17.6</td>\n",
              "      <td>31.8</td>\n",
              "      <td>98.0</td>\n",
              "      <td>65.1</td>\n",
              "      <td>166.0</td>\n",
              "      <td>Female</td>\n",
              "      <td>Malay</td>\n",
              "      <td>Singaporean</td>\n",
              "      <td>1967-05-15</td>\n",
              "    </tr>\n",
              "    <tr>\n",
              "      <th>4</th>\n",
              "      <td>2660045161</td>\n",
              "      <td>1032.011951</td>\n",
              "      <td>796de06efdad342d3f3a379dff0bd63c</td>\n",
              "      <td>2014-09-28</td>\n",
              "      <td>796de06efdad342d3f3a379dff0bd63c</td>\n",
              "      <td>2011-05-26</td>\n",
              "      <td>2011-06-10</td>\n",
              "      <td>0</td>\n",
              "      <td>0.0</td>\n",
              "      <td>1</td>\n",
              "      <td>0</td>\n",
              "      <td>0.0</td>\n",
              "      <td>0</td>\n",
              "      <td>0</td>\n",
              "      <td>1</td>\n",
              "      <td>0</td>\n",
              "      <td>1</td>\n",
              "      <td>1</td>\n",
              "      <td>1</td>\n",
              "      <td>1</td>\n",
              "      <td>1</td>\n",
              "      <td>0</td>\n",
              "      <td>0</td>\n",
              "      <td>1</td>\n",
              "      <td>0</td>\n",
              "      <td>15.4</td>\n",
              "      <td>28.8</td>\n",
              "      <td>68.0</td>\n",
              "      <td>74.5</td>\n",
              "      <td>162.0</td>\n",
              "      <td>Female</td>\n",
              "      <td>chinese</td>\n",
              "      <td>Singapore citizen</td>\n",
              "      <td>1973-05-28</td>\n",
              "    </tr>\n",
              "    <tr>\n",
              "      <th>...</th>\n",
              "      <td>...</td>\n",
              "      <td>...</td>\n",
              "      <td>...</td>\n",
              "      <td>...</td>\n",
              "      <td>...</td>\n",
              "      <td>...</td>\n",
              "      <td>...</td>\n",
              "      <td>...</td>\n",
              "      <td>...</td>\n",
              "      <td>...</td>\n",
              "      <td>...</td>\n",
              "      <td>...</td>\n",
              "      <td>...</td>\n",
              "      <td>...</td>\n",
              "      <td>...</td>\n",
              "      <td>...</td>\n",
              "      <td>...</td>\n",
              "      <td>...</td>\n",
              "      <td>...</td>\n",
              "      <td>...</td>\n",
              "      <td>...</td>\n",
              "      <td>...</td>\n",
              "      <td>...</td>\n",
              "      <td>...</td>\n",
              "      <td>...</td>\n",
              "      <td>...</td>\n",
              "      <td>...</td>\n",
              "      <td>...</td>\n",
              "      <td>...</td>\n",
              "      <td>...</td>\n",
              "      <td>...</td>\n",
              "      <td>...</td>\n",
              "      <td>...</td>\n",
              "      <td>...</td>\n",
              "    </tr>\n",
              "    <tr>\n",
              "      <th>16971</th>\n",
              "      <td>1123494323</td>\n",
              "      <td>663.585265</td>\n",
              "      <td>7373cb1310011241d432d36b25c5bca6</td>\n",
              "      <td>2011-09-17</td>\n",
              "      <td>7373cb1310011241d432d36b25c5bca6</td>\n",
              "      <td>2011-09-17</td>\n",
              "      <td>2011-09-27</td>\n",
              "      <td>0</td>\n",
              "      <td>0.0</td>\n",
              "      <td>0</td>\n",
              "      <td>0</td>\n",
              "      <td>0.0</td>\n",
              "      <td>1</td>\n",
              "      <td>0</td>\n",
              "      <td>1</td>\n",
              "      <td>1</td>\n",
              "      <td>1</td>\n",
              "      <td>0</td>\n",
              "      <td>1</td>\n",
              "      <td>1</td>\n",
              "      <td>1</td>\n",
              "      <td>1</td>\n",
              "      <td>1</td>\n",
              "      <td>1</td>\n",
              "      <td>1</td>\n",
              "      <td>15.5</td>\n",
              "      <td>29.5</td>\n",
              "      <td>113.0</td>\n",
              "      <td>75.5</td>\n",
              "      <td>182.0</td>\n",
              "      <td>Male</td>\n",
              "      <td>Chinese</td>\n",
              "      <td>Singaporean</td>\n",
              "      <td>1973-09-14</td>\n",
              "    </tr>\n",
              "    <tr>\n",
              "      <th>16972</th>\n",
              "      <td>8843072066</td>\n",
              "      <td>1324.691516</td>\n",
              "      <td>c607942a9bebf9c61daf2c0da499ddf5</td>\n",
              "      <td>2013-09-16</td>\n",
              "      <td>c607942a9bebf9c61daf2c0da499ddf5</td>\n",
              "      <td>2013-09-16</td>\n",
              "      <td>2013-09-30</td>\n",
              "      <td>0</td>\n",
              "      <td>1.0</td>\n",
              "      <td>0</td>\n",
              "      <td>0</td>\n",
              "      <td>0.0</td>\n",
              "      <td>1</td>\n",
              "      <td>0</td>\n",
              "      <td>1</td>\n",
              "      <td>0</td>\n",
              "      <td>0</td>\n",
              "      <td>0</td>\n",
              "      <td>1</td>\n",
              "      <td>1</td>\n",
              "      <td>0</td>\n",
              "      <td>0</td>\n",
              "      <td>1</td>\n",
              "      <td>0</td>\n",
              "      <td>1</td>\n",
              "      <td>12.1</td>\n",
              "      <td>29.4</td>\n",
              "      <td>115.0</td>\n",
              "      <td>77.8</td>\n",
              "      <td>175.0</td>\n",
              "      <td>Male</td>\n",
              "      <td>Malay</td>\n",
              "      <td>Singaporean</td>\n",
              "      <td>1972-01-04</td>\n",
              "    </tr>\n",
              "    <tr>\n",
              "      <th>16973</th>\n",
              "      <td>2727258154</td>\n",
              "      <td>18386.672482</td>\n",
              "      <td>c607942a9bebf9c61daf2c0da499ddf5</td>\n",
              "      <td>2013-09-16</td>\n",
              "      <td>c607942a9bebf9c61daf2c0da499ddf5</td>\n",
              "      <td>2013-09-16</td>\n",
              "      <td>2013-09-30</td>\n",
              "      <td>0</td>\n",
              "      <td>1.0</td>\n",
              "      <td>0</td>\n",
              "      <td>0</td>\n",
              "      <td>0.0</td>\n",
              "      <td>1</td>\n",
              "      <td>0</td>\n",
              "      <td>1</td>\n",
              "      <td>0</td>\n",
              "      <td>0</td>\n",
              "      <td>0</td>\n",
              "      <td>1</td>\n",
              "      <td>1</td>\n",
              "      <td>0</td>\n",
              "      <td>0</td>\n",
              "      <td>1</td>\n",
              "      <td>0</td>\n",
              "      <td>1</td>\n",
              "      <td>12.1</td>\n",
              "      <td>29.4</td>\n",
              "      <td>115.0</td>\n",
              "      <td>77.8</td>\n",
              "      <td>175.0</td>\n",
              "      <td>Male</td>\n",
              "      <td>Malay</td>\n",
              "      <td>Singaporean</td>\n",
              "      <td>1972-01-04</td>\n",
              "    </tr>\n",
              "    <tr>\n",
              "      <th>16974</th>\n",
              "      <td>38401965</td>\n",
              "      <td>5280.005320</td>\n",
              "      <td>c607942a9bebf9c61daf2c0da499ddf5</td>\n",
              "      <td>2013-09-16</td>\n",
              "      <td>c607942a9bebf9c61daf2c0da499ddf5</td>\n",
              "      <td>2013-09-16</td>\n",
              "      <td>2013-09-30</td>\n",
              "      <td>0</td>\n",
              "      <td>1.0</td>\n",
              "      <td>0</td>\n",
              "      <td>0</td>\n",
              "      <td>0.0</td>\n",
              "      <td>1</td>\n",
              "      <td>0</td>\n",
              "      <td>1</td>\n",
              "      <td>0</td>\n",
              "      <td>0</td>\n",
              "      <td>0</td>\n",
              "      <td>1</td>\n",
              "      <td>1</td>\n",
              "      <td>0</td>\n",
              "      <td>0</td>\n",
              "      <td>1</td>\n",
              "      <td>0</td>\n",
              "      <td>1</td>\n",
              "      <td>12.1</td>\n",
              "      <td>29.4</td>\n",
              "      <td>115.0</td>\n",
              "      <td>77.8</td>\n",
              "      <td>175.0</td>\n",
              "      <td>Male</td>\n",
              "      <td>Malay</td>\n",
              "      <td>Singaporean</td>\n",
              "      <td>1972-01-04</td>\n",
              "    </tr>\n",
              "    <tr>\n",
              "      <th>16975</th>\n",
              "      <td>9020331863</td>\n",
              "      <td>1273.785840</td>\n",
              "      <td>c607942a9bebf9c61daf2c0da499ddf5</td>\n",
              "      <td>2013-09-16</td>\n",
              "      <td>c607942a9bebf9c61daf2c0da499ddf5</td>\n",
              "      <td>2013-09-16</td>\n",
              "      <td>2013-09-30</td>\n",
              "      <td>0</td>\n",
              "      <td>1.0</td>\n",
              "      <td>0</td>\n",
              "      <td>0</td>\n",
              "      <td>0.0</td>\n",
              "      <td>1</td>\n",
              "      <td>0</td>\n",
              "      <td>1</td>\n",
              "      <td>0</td>\n",
              "      <td>0</td>\n",
              "      <td>0</td>\n",
              "      <td>1</td>\n",
              "      <td>1</td>\n",
              "      <td>0</td>\n",
              "      <td>0</td>\n",
              "      <td>1</td>\n",
              "      <td>0</td>\n",
              "      <td>1</td>\n",
              "      <td>12.1</td>\n",
              "      <td>29.4</td>\n",
              "      <td>115.0</td>\n",
              "      <td>77.8</td>\n",
              "      <td>175.0</td>\n",
              "      <td>Male</td>\n",
              "      <td>Malay</td>\n",
              "      <td>Singaporean</td>\n",
              "      <td>1972-01-04</td>\n",
              "    </tr>\n",
              "  </tbody>\n",
              "</table>\n",
              "<p>16976 rows × 34 columns</p>\n",
              "</div>"
            ],
            "text/plain": [
              "          bill_id        amount  ...    resident_status date_of_birth\n",
              "0        40315104   1552.634830  ...        Singaporean    1967-05-15\n",
              "1      7040712549  27923.446312  ...        Singaporean    1967-05-15\n",
              "2      1314727123   1952.978141  ...        Singaporean    1967-05-15\n",
              "3      1029762870   1244.994422  ...        Singaporean    1967-05-15\n",
              "4      2660045161   1032.011951  ...  Singapore citizen    1973-05-28\n",
              "...           ...           ...  ...                ...           ...\n",
              "16971  1123494323    663.585265  ...        Singaporean    1973-09-14\n",
              "16972  8843072066   1324.691516  ...        Singaporean    1972-01-04\n",
              "16973  2727258154  18386.672482  ...        Singaporean    1972-01-04\n",
              "16974    38401965   5280.005320  ...        Singaporean    1972-01-04\n",
              "16975  9020331863   1273.785840  ...        Singaporean    1972-01-04\n",
              "\n",
              "[16976 rows x 34 columns]"
            ]
          },
          "metadata": {
            "tags": []
          },
          "execution_count": 8
        }
      ]
    },
    {
      "cell_type": "code",
      "metadata": {
        "colab": {
          "base_uri": "https://localhost:8080/",
          "height": 393
        },
        "id": "6nPRE9dm6nac",
        "outputId": "335246fd-ce7b-49db-c5d4-38d76ee77f79"
      },
      "source": [
        "df.describe(include='all')"
      ],
      "execution_count": null,
      "outputs": [
        {
          "output_type": "execute_result",
          "data": {
            "text/html": [
              "<div>\n",
              "<style scoped>\n",
              "    .dataframe tbody tr th:only-of-type {\n",
              "        vertical-align: middle;\n",
              "    }\n",
              "\n",
              "    .dataframe tbody tr th {\n",
              "        vertical-align: top;\n",
              "    }\n",
              "\n",
              "    .dataframe thead th {\n",
              "        text-align: right;\n",
              "    }\n",
              "</style>\n",
              "<table border=\"1\" class=\"dataframe\">\n",
              "  <thead>\n",
              "    <tr style=\"text-align: right;\">\n",
              "      <th></th>\n",
              "      <th>bill_id</th>\n",
              "      <th>amount</th>\n",
              "      <th>patient_id</th>\n",
              "      <th>date_of_admission_x</th>\n",
              "      <th>id</th>\n",
              "      <th>date_of_admission_y</th>\n",
              "      <th>date_of_discharge</th>\n",
              "      <th>medical_history_1</th>\n",
              "      <th>medical_history_2</th>\n",
              "      <th>medical_history_3</th>\n",
              "      <th>medical_history_4</th>\n",
              "      <th>medical_history_5</th>\n",
              "      <th>medical_history_6</th>\n",
              "      <th>medical_history_7</th>\n",
              "      <th>preop_medication_1</th>\n",
              "      <th>preop_medication_2</th>\n",
              "      <th>preop_medication_3</th>\n",
              "      <th>preop_medication_4</th>\n",
              "      <th>preop_medication_5</th>\n",
              "      <th>preop_medication_6</th>\n",
              "      <th>symptom_1</th>\n",
              "      <th>symptom_2</th>\n",
              "      <th>symptom_3</th>\n",
              "      <th>symptom_4</th>\n",
              "      <th>symptom_5</th>\n",
              "      <th>lab_result_1</th>\n",
              "      <th>lab_result_2</th>\n",
              "      <th>lab_result_3</th>\n",
              "      <th>weight</th>\n",
              "      <th>height</th>\n",
              "      <th>gender</th>\n",
              "      <th>race</th>\n",
              "      <th>resident_status</th>\n",
              "      <th>date_of_birth</th>\n",
              "    </tr>\n",
              "  </thead>\n",
              "  <tbody>\n",
              "    <tr>\n",
              "      <th>count</th>\n",
              "      <td>1.697600e+04</td>\n",
              "      <td>16976.000000</td>\n",
              "      <td>16976</td>\n",
              "      <td>16976</td>\n",
              "      <td>16976</td>\n",
              "      <td>16976</td>\n",
              "      <td>16976</td>\n",
              "      <td>16976.000000</td>\n",
              "      <td>15820.000000</td>\n",
              "      <td>16976</td>\n",
              "      <td>16976.000000</td>\n",
              "      <td>15448.000000</td>\n",
              "      <td>16976.000000</td>\n",
              "      <td>16976.000000</td>\n",
              "      <td>16976.000000</td>\n",
              "      <td>16976.000000</td>\n",
              "      <td>16976.000000</td>\n",
              "      <td>16976.000000</td>\n",
              "      <td>16976.000000</td>\n",
              "      <td>16976.000000</td>\n",
              "      <td>16976.000000</td>\n",
              "      <td>16976.000000</td>\n",
              "      <td>16976.000000</td>\n",
              "      <td>16976.000000</td>\n",
              "      <td>16976.000000</td>\n",
              "      <td>16976.000000</td>\n",
              "      <td>16976.000000</td>\n",
              "      <td>16976.000000</td>\n",
              "      <td>16976.000000</td>\n",
              "      <td>16976.000000</td>\n",
              "      <td>16976</td>\n",
              "      <td>16976</td>\n",
              "      <td>16976</td>\n",
              "      <td>16976</td>\n",
              "    </tr>\n",
              "    <tr>\n",
              "      <th>unique</th>\n",
              "      <td>NaN</td>\n",
              "      <td>NaN</td>\n",
              "      <td>3000</td>\n",
              "      <td>1450</td>\n",
              "      <td>3000</td>\n",
              "      <td>1450</td>\n",
              "      <td>1532</td>\n",
              "      <td>NaN</td>\n",
              "      <td>NaN</td>\n",
              "      <td>4</td>\n",
              "      <td>NaN</td>\n",
              "      <td>NaN</td>\n",
              "      <td>NaN</td>\n",
              "      <td>NaN</td>\n",
              "      <td>NaN</td>\n",
              "      <td>NaN</td>\n",
              "      <td>NaN</td>\n",
              "      <td>NaN</td>\n",
              "      <td>NaN</td>\n",
              "      <td>NaN</td>\n",
              "      <td>NaN</td>\n",
              "      <td>NaN</td>\n",
              "      <td>NaN</td>\n",
              "      <td>NaN</td>\n",
              "      <td>NaN</td>\n",
              "      <td>NaN</td>\n",
              "      <td>NaN</td>\n",
              "      <td>NaN</td>\n",
              "      <td>NaN</td>\n",
              "      <td>NaN</td>\n",
              "      <td>2</td>\n",
              "      <td>6</td>\n",
              "      <td>4</td>\n",
              "      <td>2746</td>\n",
              "    </tr>\n",
              "    <tr>\n",
              "      <th>top</th>\n",
              "      <td>NaN</td>\n",
              "      <td>NaN</td>\n",
              "      <td>4e46fddfa404b306809c350aecbf0f6a</td>\n",
              "      <td>2012-01-11</td>\n",
              "      <td>4e46fddfa404b306809c350aecbf0f6a</td>\n",
              "      <td>2012-01-11</td>\n",
              "      <td>2014-03-04</td>\n",
              "      <td>NaN</td>\n",
              "      <td>NaN</td>\n",
              "      <td>0</td>\n",
              "      <td>NaN</td>\n",
              "      <td>NaN</td>\n",
              "      <td>NaN</td>\n",
              "      <td>NaN</td>\n",
              "      <td>NaN</td>\n",
              "      <td>NaN</td>\n",
              "      <td>NaN</td>\n",
              "      <td>NaN</td>\n",
              "      <td>NaN</td>\n",
              "      <td>NaN</td>\n",
              "      <td>NaN</td>\n",
              "      <td>NaN</td>\n",
              "      <td>NaN</td>\n",
              "      <td>NaN</td>\n",
              "      <td>NaN</td>\n",
              "      <td>NaN</td>\n",
              "      <td>NaN</td>\n",
              "      <td>NaN</td>\n",
              "      <td>NaN</td>\n",
              "      <td>NaN</td>\n",
              "      <td>Female</td>\n",
              "      <td>Chinese</td>\n",
              "      <td>Singaporean</td>\n",
              "      <td>1948-06-16</td>\n",
              "    </tr>\n",
              "    <tr>\n",
              "      <th>freq</th>\n",
              "      <td>NaN</td>\n",
              "      <td>NaN</td>\n",
              "      <td>64</td>\n",
              "      <td>48</td>\n",
              "      <td>64</td>\n",
              "      <td>48</td>\n",
              "      <td>44</td>\n",
              "      <td>NaN</td>\n",
              "      <td>NaN</td>\n",
              "      <td>10868</td>\n",
              "      <td>NaN</td>\n",
              "      <td>NaN</td>\n",
              "      <td>NaN</td>\n",
              "      <td>NaN</td>\n",
              "      <td>NaN</td>\n",
              "      <td>NaN</td>\n",
              "      <td>NaN</td>\n",
              "      <td>NaN</td>\n",
              "      <td>NaN</td>\n",
              "      <td>NaN</td>\n",
              "      <td>NaN</td>\n",
              "      <td>NaN</td>\n",
              "      <td>NaN</td>\n",
              "      <td>NaN</td>\n",
              "      <td>NaN</td>\n",
              "      <td>NaN</td>\n",
              "      <td>NaN</td>\n",
              "      <td>NaN</td>\n",
              "      <td>NaN</td>\n",
              "      <td>NaN</td>\n",
              "      <td>8560</td>\n",
              "      <td>8952</td>\n",
              "      <td>10216</td>\n",
              "      <td>64</td>\n",
              "    </tr>\n",
              "    <tr>\n",
              "      <th>mean</th>\n",
              "      <td>4.998708e+09</td>\n",
              "      <td>5457.613754</td>\n",
              "      <td>NaN</td>\n",
              "      <td>NaN</td>\n",
              "      <td>NaN</td>\n",
              "      <td>NaN</td>\n",
              "      <td>NaN</td>\n",
              "      <td>0.170358</td>\n",
              "      <td>0.311252</td>\n",
              "      <td>NaN</td>\n",
              "      <td>0.051131</td>\n",
              "      <td>0.065510</td>\n",
              "      <td>0.258483</td>\n",
              "      <td>0.251649</td>\n",
              "      <td>0.507069</td>\n",
              "      <td>0.594486</td>\n",
              "      <td>0.819510</td>\n",
              "      <td>0.526390</td>\n",
              "      <td>0.817389</td>\n",
              "      <td>0.749529</td>\n",
              "      <td>0.618049</td>\n",
              "      <td>0.664467</td>\n",
              "      <td>0.541942</td>\n",
              "      <td>0.731385</td>\n",
              "      <td>0.526155</td>\n",
              "      <td>14.466282</td>\n",
              "      <td>27.418073</td>\n",
              "      <td>99.457116</td>\n",
              "      <td>78.671136</td>\n",
              "      <td>165.007776</td>\n",
              "      <td>NaN</td>\n",
              "      <td>NaN</td>\n",
              "      <td>NaN</td>\n",
              "      <td>NaN</td>\n",
              "    </tr>\n",
              "    <tr>\n",
              "      <th>std</th>\n",
              "      <td>2.876544e+09</td>\n",
              "      <td>7688.241568</td>\n",
              "      <td>NaN</td>\n",
              "      <td>NaN</td>\n",
              "      <td>NaN</td>\n",
              "      <td>NaN</td>\n",
              "      <td>NaN</td>\n",
              "      <td>0.375958</td>\n",
              "      <td>0.463020</td>\n",
              "      <td>NaN</td>\n",
              "      <td>0.220271</td>\n",
              "      <td>0.247432</td>\n",
              "      <td>0.437813</td>\n",
              "      <td>0.433974</td>\n",
              "      <td>0.499965</td>\n",
              "      <td>0.491006</td>\n",
              "      <td>0.384606</td>\n",
              "      <td>0.499318</td>\n",
              "      <td>0.386358</td>\n",
              "      <td>0.433297</td>\n",
              "      <td>0.485879</td>\n",
              "      <td>0.472190</td>\n",
              "      <td>0.498252</td>\n",
              "      <td>0.443252</td>\n",
              "      <td>0.499330</td>\n",
              "      <td>1.738928</td>\n",
              "      <td>2.480872</td>\n",
              "      <td>15.249583</td>\n",
              "      <td>10.918066</td>\n",
              "      <td>6.918584</td>\n",
              "      <td>NaN</td>\n",
              "      <td>NaN</td>\n",
              "      <td>NaN</td>\n",
              "      <td>NaN</td>\n",
              "    </tr>\n",
              "    <tr>\n",
              "      <th>min</th>\n",
              "      <td>5.584120e+05</td>\n",
              "      <td>79.496707</td>\n",
              "      <td>NaN</td>\n",
              "      <td>NaN</td>\n",
              "      <td>NaN</td>\n",
              "      <td>NaN</td>\n",
              "      <td>NaN</td>\n",
              "      <td>0.000000</td>\n",
              "      <td>0.000000</td>\n",
              "      <td>NaN</td>\n",
              "      <td>0.000000</td>\n",
              "      <td>0.000000</td>\n",
              "      <td>0.000000</td>\n",
              "      <td>0.000000</td>\n",
              "      <td>0.000000</td>\n",
              "      <td>0.000000</td>\n",
              "      <td>0.000000</td>\n",
              "      <td>0.000000</td>\n",
              "      <td>0.000000</td>\n",
              "      <td>0.000000</td>\n",
              "      <td>0.000000</td>\n",
              "      <td>0.000000</td>\n",
              "      <td>0.000000</td>\n",
              "      <td>0.000000</td>\n",
              "      <td>0.000000</td>\n",
              "      <td>9.100000</td>\n",
              "      <td>19.700000</td>\n",
              "      <td>52.000000</td>\n",
              "      <td>48.000000</td>\n",
              "      <td>151.000000</td>\n",
              "      <td>NaN</td>\n",
              "      <td>NaN</td>\n",
              "      <td>NaN</td>\n",
              "      <td>NaN</td>\n",
              "    </tr>\n",
              "    <tr>\n",
              "      <th>25%</th>\n",
              "      <td>2.491397e+09</td>\n",
              "      <td>951.830530</td>\n",
              "      <td>NaN</td>\n",
              "      <td>NaN</td>\n",
              "      <td>NaN</td>\n",
              "      <td>NaN</td>\n",
              "      <td>NaN</td>\n",
              "      <td>0.000000</td>\n",
              "      <td>0.000000</td>\n",
              "      <td>NaN</td>\n",
              "      <td>0.000000</td>\n",
              "      <td>0.000000</td>\n",
              "      <td>0.000000</td>\n",
              "      <td>0.000000</td>\n",
              "      <td>0.000000</td>\n",
              "      <td>0.000000</td>\n",
              "      <td>1.000000</td>\n",
              "      <td>0.000000</td>\n",
              "      <td>1.000000</td>\n",
              "      <td>0.000000</td>\n",
              "      <td>0.000000</td>\n",
              "      <td>0.000000</td>\n",
              "      <td>0.000000</td>\n",
              "      <td>0.000000</td>\n",
              "      <td>0.000000</td>\n",
              "      <td>13.200000</td>\n",
              "      <td>25.700000</td>\n",
              "      <td>88.000000</td>\n",
              "      <td>71.200000</td>\n",
              "      <td>160.000000</td>\n",
              "      <td>NaN</td>\n",
              "      <td>NaN</td>\n",
              "      <td>NaN</td>\n",
              "      <td>NaN</td>\n",
              "    </tr>\n",
              "    <tr>\n",
              "      <th>50%</th>\n",
              "      <td>5.000035e+09</td>\n",
              "      <td>1515.676655</td>\n",
              "      <td>NaN</td>\n",
              "      <td>NaN</td>\n",
              "      <td>NaN</td>\n",
              "      <td>NaN</td>\n",
              "      <td>NaN</td>\n",
              "      <td>0.000000</td>\n",
              "      <td>0.000000</td>\n",
              "      <td>NaN</td>\n",
              "      <td>0.000000</td>\n",
              "      <td>0.000000</td>\n",
              "      <td>0.000000</td>\n",
              "      <td>0.000000</td>\n",
              "      <td>1.000000</td>\n",
              "      <td>1.000000</td>\n",
              "      <td>1.000000</td>\n",
              "      <td>1.000000</td>\n",
              "      <td>1.000000</td>\n",
              "      <td>1.000000</td>\n",
              "      <td>1.000000</td>\n",
              "      <td>1.000000</td>\n",
              "      <td>1.000000</td>\n",
              "      <td>1.000000</td>\n",
              "      <td>1.000000</td>\n",
              "      <td>14.500000</td>\n",
              "      <td>27.400000</td>\n",
              "      <td>100.000000</td>\n",
              "      <td>78.800000</td>\n",
              "      <td>165.000000</td>\n",
              "      <td>NaN</td>\n",
              "      <td>NaN</td>\n",
              "      <td>NaN</td>\n",
              "      <td>NaN</td>\n",
              "    </tr>\n",
              "    <tr>\n",
              "      <th>75%</th>\n",
              "      <td>7.499418e+09</td>\n",
              "      <td>7307.056573</td>\n",
              "      <td>NaN</td>\n",
              "      <td>NaN</td>\n",
              "      <td>NaN</td>\n",
              "      <td>NaN</td>\n",
              "      <td>NaN</td>\n",
              "      <td>0.000000</td>\n",
              "      <td>1.000000</td>\n",
              "      <td>NaN</td>\n",
              "      <td>0.000000</td>\n",
              "      <td>0.000000</td>\n",
              "      <td>1.000000</td>\n",
              "      <td>1.000000</td>\n",
              "      <td>1.000000</td>\n",
              "      <td>1.000000</td>\n",
              "      <td>1.000000</td>\n",
              "      <td>1.000000</td>\n",
              "      <td>1.000000</td>\n",
              "      <td>1.000000</td>\n",
              "      <td>1.000000</td>\n",
              "      <td>1.000000</td>\n",
              "      <td>1.000000</td>\n",
              "      <td>1.000000</td>\n",
              "      <td>1.000000</td>\n",
              "      <td>15.800000</td>\n",
              "      <td>29.200000</td>\n",
              "      <td>110.000000</td>\n",
              "      <td>86.200000</td>\n",
              "      <td>170.000000</td>\n",
              "      <td>NaN</td>\n",
              "      <td>NaN</td>\n",
              "      <td>NaN</td>\n",
              "      <td>NaN</td>\n",
              "    </tr>\n",
              "    <tr>\n",
              "      <th>max</th>\n",
              "      <td>9.999633e+09</td>\n",
              "      <td>81849.751340</td>\n",
              "      <td>NaN</td>\n",
              "      <td>NaN</td>\n",
              "      <td>NaN</td>\n",
              "      <td>NaN</td>\n",
              "      <td>NaN</td>\n",
              "      <td>1.000000</td>\n",
              "      <td>1.000000</td>\n",
              "      <td>NaN</td>\n",
              "      <td>1.000000</td>\n",
              "      <td>1.000000</td>\n",
              "      <td>1.000000</td>\n",
              "      <td>1.000000</td>\n",
              "      <td>1.000000</td>\n",
              "      <td>1.000000</td>\n",
              "      <td>1.000000</td>\n",
              "      <td>1.000000</td>\n",
              "      <td>1.000000</td>\n",
              "      <td>1.000000</td>\n",
              "      <td>1.000000</td>\n",
              "      <td>1.000000</td>\n",
              "      <td>1.000000</td>\n",
              "      <td>1.000000</td>\n",
              "      <td>1.000000</td>\n",
              "      <td>20.300000</td>\n",
              "      <td>35.100000</td>\n",
              "      <td>150.000000</td>\n",
              "      <td>121.000000</td>\n",
              "      <td>186.000000</td>\n",
              "      <td>NaN</td>\n",
              "      <td>NaN</td>\n",
              "      <td>NaN</td>\n",
              "      <td>NaN</td>\n",
              "    </tr>\n",
              "  </tbody>\n",
              "</table>\n",
              "</div>"
            ],
            "text/plain": [
              "             bill_id        amount  ... resident_status date_of_birth\n",
              "count   1.697600e+04  16976.000000  ...           16976         16976\n",
              "unique           NaN           NaN  ...               4          2746\n",
              "top              NaN           NaN  ...     Singaporean    1948-06-16\n",
              "freq             NaN           NaN  ...           10216            64\n",
              "mean    4.998708e+09   5457.613754  ...             NaN           NaN\n",
              "std     2.876544e+09   7688.241568  ...             NaN           NaN\n",
              "min     5.584120e+05     79.496707  ...             NaN           NaN\n",
              "25%     2.491397e+09    951.830530  ...             NaN           NaN\n",
              "50%     5.000035e+09   1515.676655  ...             NaN           NaN\n",
              "75%     7.499418e+09   7307.056573  ...             NaN           NaN\n",
              "max     9.999633e+09  81849.751340  ...             NaN           NaN\n",
              "\n",
              "[11 rows x 34 columns]"
            ]
          },
          "metadata": {
            "tags": []
          },
          "execution_count": 9
        }
      ]
    },
    {
      "cell_type": "code",
      "metadata": {
        "colab": {
          "base_uri": "https://localhost:8080/"
        },
        "id": "WsmUKu0j6nad",
        "outputId": "7f2ba3f8-7544-4b23-9c7f-22d804451418"
      },
      "source": [
        "col = list(df.columns)\n",
        "col"
      ],
      "execution_count": null,
      "outputs": [
        {
          "output_type": "execute_result",
          "data": {
            "text/plain": [
              "['bill_id',\n",
              " 'amount',\n",
              " 'patient_id',\n",
              " 'date_of_admission_x',\n",
              " 'id',\n",
              " 'date_of_admission_y',\n",
              " 'date_of_discharge',\n",
              " 'medical_history_1',\n",
              " 'medical_history_2',\n",
              " 'medical_history_3',\n",
              " 'medical_history_4',\n",
              " 'medical_history_5',\n",
              " 'medical_history_6',\n",
              " 'medical_history_7',\n",
              " 'preop_medication_1',\n",
              " 'preop_medication_2',\n",
              " 'preop_medication_3',\n",
              " 'preop_medication_4',\n",
              " 'preop_medication_5',\n",
              " 'preop_medication_6',\n",
              " 'symptom_1',\n",
              " 'symptom_2',\n",
              " 'symptom_3',\n",
              " 'symptom_4',\n",
              " 'symptom_5',\n",
              " 'lab_result_1',\n",
              " 'lab_result_2',\n",
              " 'lab_result_3',\n",
              " 'weight',\n",
              " 'height',\n",
              " 'gender',\n",
              " 'race',\n",
              " 'resident_status',\n",
              " 'date_of_birth']"
            ]
          },
          "metadata": {
            "tags": []
          },
          "execution_count": 10
        }
      ]
    },
    {
      "cell_type": "code",
      "metadata": {
        "colab": {
          "base_uri": "https://localhost:8080/"
        },
        "id": "Rk071GN56nad",
        "outputId": "1d9b2e01-bd8e-4316-f60b-9958fd7bd8e9"
      },
      "source": [
        "df.columns = col\n",
        "df.columns"
      ],
      "execution_count": null,
      "outputs": [
        {
          "output_type": "execute_result",
          "data": {
            "text/plain": [
              "Index(['bill_id', 'amount', 'patient_id', 'date_of_admission_x', 'id',\n",
              "       'date_of_admission_y', 'date_of_discharge', 'medical_history_1',\n",
              "       'medical_history_2', 'medical_history_3', 'medical_history_4',\n",
              "       'medical_history_5', 'medical_history_6', 'medical_history_7',\n",
              "       'preop_medication_1', 'preop_medication_2', 'preop_medication_3',\n",
              "       'preop_medication_4', 'preop_medication_5', 'preop_medication_6',\n",
              "       'symptom_1', 'symptom_2', 'symptom_3', 'symptom_4', 'symptom_5',\n",
              "       'lab_result_1', 'lab_result_2', 'lab_result_3', 'weight', 'height',\n",
              "       'gender', 'race', 'resident_status', 'date_of_birth'],\n",
              "      dtype='object')"
            ]
          },
          "metadata": {
            "tags": []
          },
          "execution_count": 11
        }
      ]
    },
    {
      "cell_type": "code",
      "metadata": {
        "colab": {
          "base_uri": "https://localhost:8080/"
        },
        "id": "q6jcWK376nad",
        "outputId": "38473736-1969-41ba-a069-c2b55c03e7f9"
      },
      "source": [
        "# Find Binary Feature | Variables : Features with only two Values (Labels | Classes) :\n",
        "binary_features = []\n",
        "\n",
        "for col in df.columns :\n",
        "    if df[col].value_counts().shape[0] == 2 :\n",
        "        binary_features.append(col)\n",
        "\n",
        "print(f'Binary Feature: {binary_features}')"
      ],
      "execution_count": null,
      "outputs": [
        {
          "output_type": "stream",
          "text": [
            "Binary Feature: ['medical_history_1', 'medical_history_2', 'medical_history_4', 'medical_history_5', 'medical_history_6', 'medical_history_7', 'preop_medication_1', 'preop_medication_2', 'preop_medication_3', 'preop_medication_4', 'preop_medication_5', 'preop_medication_6', 'symptom_1', 'symptom_2', 'symptom_3', 'symptom_4', 'symptom_5', 'gender']\n"
          ],
          "name": "stdout"
        }
      ]
    },
    {
      "cell_type": "markdown",
      "metadata": {
        "id": "XPEyjZzTK0bq"
      },
      "source": [
        "###Binary Categorical Features"
      ]
    },
    {
      "cell_type": "code",
      "metadata": {
        "colab": {
          "base_uri": "https://localhost:8080/",
          "height": 606
        },
        "id": "287br0Qa6nae",
        "outputId": "a8ef4a7b-038e-4120-d016-7087950f32d7"
      },
      "source": [
        "fig, axes = plt.subplots(nrows = 2, ncols = 3, figsize = (20,10))\n",
        "\n",
        "sns.countplot(x = 'medical_history_1', data = df, hue = 'medical_history_1', ax = axes[0,0])\n",
        "sns.countplot(x = 'preop_medication_1', data = df, hue = 'preop_medication_1', ax = axes[0,1])\n",
        "sns.countplot(x = 'symptom_1', data = df, hue = 'symptom_1', ax = axes[0,2])\n",
        "sns.countplot(x = 'medical_history_6', data = df, hue = 'medical_history_6', ax = axes[1,0])\n",
        "sns.countplot(x = 'preop_medication_6', data = df, hue = 'preop_medication_6', ax = axes[1,1])\n",
        "sns.countplot(x = 'symptom_5', data = df, hue = 'symptom_5', ax = axes[1,2]);"
      ],
      "execution_count": null,
      "outputs": [
        {
          "output_type": "display_data",
          "data": {
            "image/png": "[encoded data removed]",
            "text/plain": [
              "<Figure size 1440x720 with 6 Axes>"
            ]
          },
          "metadata": {
            "tags": [],
            "needs_background": "light"
          }
        }
      ]
    },
    {
      "cell_type": "markdown",
      "metadata": {
        "id": "cKxYN9BDLLmr"
      },
      "source": [
        "###Remaining Categorical variables\n"
      ]
    },
    {
      "cell_type": "code",
      "metadata": {
        "colab": {
          "base_uri": "https://localhost:8080/",
          "height": 279
        },
        "id": "MT2NP3iG6nae",
        "outputId": "012efa67-df5c-4d58-f1aa-7ab82479d31e"
      },
      "source": [
        "sns.countplot(x = 'race', data = df, hue='race');"
      ],
      "execution_count": null,
      "outputs": [
        {
          "output_type": "display_data",
          "data": {
            "image/png": "[encoded data removed]",
            "text/plain": [
              "<Figure size 432x288 with 1 Axes>"
            ]
          },
          "metadata": {
            "tags": [],
            "needs_background": "light"
          }
        }
      ]
    },
    {
      "cell_type": "code",
      "metadata": {
        "colab": {
          "base_uri": "https://localhost:8080/",
          "height": 326
        },
        "id": "jSDyKIsxbdH9",
        "outputId": "2ac22147-fdd0-42bf-9d02-935a672b2cde"
      },
      "source": [
        "df.groupby(['race'],as_index=True)['patient_id'].count().plot(rot=90,kind=\"bar\")"
      ],
      "execution_count": null,
      "outputs": [
        {
          "output_type": "execute_result",
          "data": {
            "text/plain": [
              "<matplotlib.axes._subplots.AxesSubplot at 0x7f1b49407490>"
            ]
          },
          "metadata": {
            "tags": []
          },
          "execution_count": 15
        },
        {
          "output_type": "display_data",
          "data": {
            "image/png": "[encoded data removed]",
            "text/plain": [
              "<Figure size 432x288 with 1 Axes>"
            ]
          },
          "metadata": {
            "tags": [],
            "needs_background": "light"
          }
        }
      ]
    },
    {
      "cell_type": "code",
      "metadata": {
        "colab": {
          "base_uri": "https://localhost:8080/",
          "height": 280
        },
        "id": "JfjwSchd6naf",
        "outputId": "a48ab201-9e38-46d1-add5-d56a45ff1f5c"
      },
      "source": [
        "sns.countplot(x = 'resident_status', data = df, hue = 'resident_status');"
      ],
      "execution_count": null,
      "outputs": [
        {
          "output_type": "display_data",
          "data": {
            "image/png": "[encoded data removed]",
            "text/plain": [
              "<Figure size 432x288 with 1 Axes>"
            ]
          },
          "metadata": {
            "tags": [],
            "needs_background": "light"
          }
        }
      ]
    },
    {
      "cell_type": "code",
      "metadata": {
        "colab": {
          "base_uri": "https://localhost:8080/",
          "height": 373
        },
        "id": "ZMNeM6kMbdH9",
        "outputId": "a553a1b8-e550-446d-f5eb-84c6be985f4a"
      },
      "source": [
        "df.groupby(['resident_status'],as_index=True)['patient_id'].count().plot(rot=90,kind=\"bar\")"
      ],
      "execution_count": null,
      "outputs": [
        {
          "output_type": "execute_result",
          "data": {
            "text/plain": [
              "<matplotlib.axes._subplots.AxesSubplot at 0x7f1b493f66d0>"
            ]
          },
          "metadata": {
            "tags": []
          },
          "execution_count": 17
        },
        {
          "output_type": "display_data",
          "data": {
            "image/png": "[encoded data removed]",
            "text/plain": [
              "<Figure size 432x288 with 1 Axes>"
            ]
          },
          "metadata": {
            "tags": [],
            "needs_background": "light"
          }
        }
      ]
    },
    {
      "cell_type": "code",
      "metadata": {
        "colab": {
          "base_uri": "https://localhost:8080/",
          "height": 136
        },
        "id": "pPkHIjVYbdH9",
        "outputId": "463dd98a-a651-49c8-f767-0f6d6c9605db"
      },
      "source": [
        "df.groupby('gender')[['medical_history_1']].mean()"
      ],
      "execution_count": null,
      "outputs": [
        {
          "output_type": "execute_result",
          "data": {
            "text/html": [
              "<div>\n",
              "<style scoped>\n",
              "    .dataframe tbody tr th:only-of-type {\n",
              "        vertical-align: middle;\n",
              "    }\n",
              "\n",
              "    .dataframe tbody tr th {\n",
              "        vertical-align: top;\n",
              "    }\n",
              "\n",
              "    .dataframe thead th {\n",
              "        text-align: right;\n",
              "    }\n",
              "</style>\n",
              "<table border=\"1\" class=\"dataframe\">\n",
              "  <thead>\n",
              "    <tr style=\"text-align: right;\">\n",
              "      <th></th>\n",
              "      <th>medical_history_1</th>\n",
              "    </tr>\n",
              "    <tr>\n",
              "      <th>gender</th>\n",
              "      <th></th>\n",
              "    </tr>\n",
              "  </thead>\n",
              "  <tbody>\n",
              "    <tr>\n",
              "      <th>Female</th>\n",
              "      <td>0.174299</td>\n",
              "    </tr>\n",
              "    <tr>\n",
              "      <th>Male</th>\n",
              "      <td>0.166350</td>\n",
              "    </tr>\n",
              "  </tbody>\n",
              "</table>\n",
              "</div>"
            ],
            "text/plain": [
              "        medical_history_1\n",
              "gender                   \n",
              "Female           0.174299\n",
              "Male             0.166350"
            ]
          },
          "metadata": {
            "tags": []
          },
          "execution_count": 18
        }
      ]
    },
    {
      "cell_type": "code",
      "metadata": {
        "colab": {
          "base_uri": "https://localhost:8080/",
          "height": 279
        },
        "id": "nGt4L8XAbdH-",
        "outputId": "bffdf2eb-072d-4677-fc8f-8303351e491a"
      },
      "source": [
        "sns.countplot(x = 'gender', data = df, hue = 'gender');"
      ],
      "execution_count": null,
      "outputs": [
        {
          "output_type": "display_data",
          "data": {
            "image/png": "[encoded data removed]",
            "text/plain": [
              "<Figure size 432x288 with 1 Axes>"
            ]
          },
          "metadata": {
            "tags": [],
            "needs_background": "light"
          }
        }
      ]
    },
    {
      "cell_type": "code",
      "metadata": {
        "colab": {
          "base_uri": "https://localhost:8080/",
          "height": 322
        },
        "id": "E4GmH4P7bdH-",
        "outputId": "26d22b88-ab0b-4958-f3fd-f69cd8407ad6"
      },
      "source": [
        "df.groupby(['gender'],as_index=True)['patient_id'].count().plot(rot=90,kind=\"bar\")"
      ],
      "execution_count": null,
      "outputs": [
        {
          "output_type": "execute_result",
          "data": {
            "text/plain": [
              "<matplotlib.axes._subplots.AxesSubplot at 0x7f1b49372650>"
            ]
          },
          "metadata": {
            "tags": []
          },
          "execution_count": 20
        },
        {
          "output_type": "display_data",
          "data": {
            "image/png": "[encoded data removed]",
            "text/plain": [
              "<Figure size 432x288 with 1 Axes>"
            ]
          },
          "metadata": {
            "tags": [],
            "needs_background": "light"
          }
        }
      ]
    },
    {
      "cell_type": "markdown",
      "metadata": {
        "id": "DFbu1hfKbdH_"
      },
      "source": [
        "## Continuous Variables"
      ]
    },
    {
      "cell_type": "code",
      "metadata": {
        "colab": {
          "base_uri": "https://localhost:8080/"
        },
        "id": "Ajw44-r-6naf",
        "outputId": "6d199a13-0498-4e78-d2af-f7f670547519"
      },
      "source": [
        "list(df.select_dtypes('number').columns)"
      ],
      "execution_count": null,
      "outputs": [
        {
          "output_type": "execute_result",
          "data": {
            "text/plain": [
              "['bill_id',\n",
              " 'amount',\n",
              " 'medical_history_1',\n",
              " 'medical_history_2',\n",
              " 'medical_history_4',\n",
              " 'medical_history_5',\n",
              " 'medical_history_6',\n",
              " 'medical_history_7',\n",
              " 'preop_medication_1',\n",
              " 'preop_medication_2',\n",
              " 'preop_medication_3',\n",
              " 'preop_medication_4',\n",
              " 'preop_medication_5',\n",
              " 'preop_medication_6',\n",
              " 'symptom_1',\n",
              " 'symptom_2',\n",
              " 'symptom_3',\n",
              " 'symptom_4',\n",
              " 'symptom_5',\n",
              " 'lab_result_1',\n",
              " 'lab_result_2',\n",
              " 'lab_result_3',\n",
              " 'weight',\n",
              " 'height']"
            ]
          },
          "metadata": {
            "tags": []
          },
          "execution_count": 21
        }
      ]
    },
    {
      "cell_type": "code",
      "metadata": {
        "scrolled": true,
        "colab": {
          "base_uri": "https://localhost:8080/",
          "height": 136
        },
        "id": "_KAKPF5wbdH_",
        "outputId": "59b27cbd-f8ad-4fd6-e5aa-1abf4eb7e18e"
      },
      "source": [
        "df.groupby('medical_history_1')[['amount', 'bill_id']].mean()"
      ],
      "execution_count": null,
      "outputs": [
        {
          "output_type": "execute_result",
          "data": {
            "text/html": [
              "<div>\n",
              "<style scoped>\n",
              "    .dataframe tbody tr th:only-of-type {\n",
              "        vertical-align: middle;\n",
              "    }\n",
              "\n",
              "    .dataframe tbody tr th {\n",
              "        vertical-align: top;\n",
              "    }\n",
              "\n",
              "    .dataframe thead th {\n",
              "        text-align: right;\n",
              "    }\n",
              "</style>\n",
              "<table border=\"1\" class=\"dataframe\">\n",
              "  <thead>\n",
              "    <tr style=\"text-align: right;\">\n",
              "      <th></th>\n",
              "      <th>amount</th>\n",
              "      <th>bill_id</th>\n",
              "    </tr>\n",
              "    <tr>\n",
              "      <th>medical_history_1</th>\n",
              "      <th></th>\n",
              "      <th></th>\n",
              "    </tr>\n",
              "  </thead>\n",
              "  <tbody>\n",
              "    <tr>\n",
              "      <th>0</th>\n",
              "      <td>5243.818629</td>\n",
              "      <td>5.012842e+09</td>\n",
              "    </tr>\n",
              "    <tr>\n",
              "      <th>1</th>\n",
              "      <td>6498.793052</td>\n",
              "      <td>4.929874e+09</td>\n",
              "    </tr>\n",
              "  </tbody>\n",
              "</table>\n",
              "</div>"
            ],
            "text/plain": [
              "                        amount       bill_id\n",
              "medical_history_1                           \n",
              "0                  5243.818629  5.012842e+09\n",
              "1                  6498.793052  4.929874e+09"
            ]
          },
          "metadata": {
            "tags": []
          },
          "execution_count": 22
        }
      ]
    },
    {
      "cell_type": "code",
      "metadata": {
        "colab": {
          "base_uri": "https://localhost:8080/",
          "height": 431
        },
        "id": "knldIGFjbdIA",
        "outputId": "00039e56-dc74-4135-ce2d-56fe81fdaa3f"
      },
      "source": [
        "df.groupby('patient_id')[['amount']].mean()"
      ],
      "execution_count": null,
      "outputs": [
        {
          "output_type": "execute_result",
          "data": {
            "text/html": [
              "<div>\n",
              "<style scoped>\n",
              "    .dataframe tbody tr th:only-of-type {\n",
              "        vertical-align: middle;\n",
              "    }\n",
              "\n",
              "    .dataframe tbody tr th {\n",
              "        vertical-align: top;\n",
              "    }\n",
              "\n",
              "    .dataframe thead th {\n",
              "        text-align: right;\n",
              "    }\n",
              "</style>\n",
              "<table border=\"1\" class=\"dataframe\">\n",
              "  <thead>\n",
              "    <tr style=\"text-align: right;\">\n",
              "      <th></th>\n",
              "      <th>amount</th>\n",
              "    </tr>\n",
              "    <tr>\n",
              "      <th>patient_id</th>\n",
              "      <th></th>\n",
              "    </tr>\n",
              "  </thead>\n",
              "  <tbody>\n",
              "    <tr>\n",
              "      <th>00225710a878eff524a1d13be817e8e2</th>\n",
              "      <td>1297.641674</td>\n",
              "    </tr>\n",
              "    <tr>\n",
              "      <th>0029d90eb654699c18001c17efb0f129</th>\n",
              "      <td>5650.374468</td>\n",
              "    </tr>\n",
              "    <tr>\n",
              "      <th>0040333abd68527ecb53e1db9073f52e</th>\n",
              "      <td>4361.795409</td>\n",
              "    </tr>\n",
              "    <tr>\n",
              "      <th>00473b58e3dc8ae37b3cb34069705083</th>\n",
              "      <td>3821.470805</td>\n",
              "    </tr>\n",
              "    <tr>\n",
              "      <th>0078662d1d983dde68ea057c42d5b5cf</th>\n",
              "      <td>18369.467252</td>\n",
              "    </tr>\n",
              "    <tr>\n",
              "      <th>...</th>\n",
              "      <td>...</td>\n",
              "    </tr>\n",
              "    <tr>\n",
              "      <th>ffa5a615a4cc5fb1ada0443edc1f5dd3</th>\n",
              "      <td>1169.016545</td>\n",
              "    </tr>\n",
              "    <tr>\n",
              "      <th>ffac3c4b6838f42625e1dd00dd7c867b</th>\n",
              "      <td>3512.260693</td>\n",
              "    </tr>\n",
              "    <tr>\n",
              "      <th>ffc19537fa6621512ef4f296d60896ce</th>\n",
              "      <td>7513.405243</td>\n",
              "    </tr>\n",
              "    <tr>\n",
              "      <th>ffd67c2bcfb32508d2cf7b1e1193e2ed</th>\n",
              "      <td>7001.909117</td>\n",
              "    </tr>\n",
              "    <tr>\n",
              "      <th>ffd9644f8daf1d28493a7cd700bb30f4</th>\n",
              "      <td>5260.165497</td>\n",
              "    </tr>\n",
              "  </tbody>\n",
              "</table>\n",
              "<p>3000 rows × 1 columns</p>\n",
              "</div>"
            ],
            "text/plain": [
              "                                        amount\n",
              "patient_id                                    \n",
              "00225710a878eff524a1d13be817e8e2   1297.641674\n",
              "0029d90eb654699c18001c17efb0f129   5650.374468\n",
              "0040333abd68527ecb53e1db9073f52e   4361.795409\n",
              "00473b58e3dc8ae37b3cb34069705083   3821.470805\n",
              "0078662d1d983dde68ea057c42d5b5cf  18369.467252\n",
              "...                                        ...\n",
              "ffa5a615a4cc5fb1ada0443edc1f5dd3   1169.016545\n",
              "ffac3c4b6838f42625e1dd00dd7c867b   3512.260693\n",
              "ffc19537fa6621512ef4f296d60896ce   7513.405243\n",
              "ffd67c2bcfb32508d2cf7b1e1193e2ed   7001.909117\n",
              "ffd9644f8daf1d28493a7cd700bb30f4   5260.165497\n",
              "\n",
              "[3000 rows x 1 columns]"
            ]
          },
          "metadata": {
            "tags": []
          },
          "execution_count": 23
        }
      ]
    },
    {
      "cell_type": "code",
      "metadata": {
        "colab": {
          "base_uri": "https://localhost:8080/",
          "height": 334
        },
        "id": "Nbu8bfoD6naf",
        "outputId": "bd7af2b1-2378-417d-fa6b-8f00263a7276"
      },
      "source": [
        "sns.distplot(df['amount']);"
      ],
      "execution_count": null,
      "outputs": [
        {
          "output_type": "stream",
          "text": [
            "/usr/local/lib/python3.7/dist-packages/seaborn/distributions.py:2557: FutureWarning: `distplot` is a deprecated function and will be removed in a future version. Please adapt your code to use either `displot` (a figure-level function with similar flexibility) or `histplot` (an axes-level function for histograms).\n",
            "  warnings.warn(msg, FutureWarning)\n"
          ],
          "name": "stderr"
        },
        {
          "output_type": "display_data",
          "data": {
            "image/png": "[encoded data removed]",
            "text/plain": [
              "<Figure size 432x288 with 1 Axes>"
            ]
          },
          "metadata": {
            "tags": [],
            "needs_background": "light"
          }
        }
      ]
    },
    {
      "cell_type": "code",
      "metadata": {
        "colab": {
          "base_uri": "https://localhost:8080/"
        },
        "id": "3v5M9RprbdIA",
        "outputId": "86c89f34-ddc4-4ee2-e924-e4c9c70c6a51"
      },
      "source": [
        "df['amount'].skew()"
      ],
      "execution_count": null,
      "outputs": [
        {
          "output_type": "execute_result",
          "data": {
            "text/plain": [
              "2.2752204657548454"
            ]
          },
          "metadata": {
            "tags": []
          },
          "execution_count": 25
        }
      ]
    },
    {
      "cell_type": "code",
      "metadata": {
        "colab": {
          "base_uri": "https://localhost:8080/",
          "height": 333
        },
        "id": "XaYQ4H3N6naf",
        "outputId": "cd2611a1-c4ac-4ee6-e63c-e3fcd027c234"
      },
      "source": [
        "sns.distplot(df['weight']);"
      ],
      "execution_count": null,
      "outputs": [
        {
          "output_type": "stream",
          "text": [
            "/usr/local/lib/python3.7/dist-packages/seaborn/distributions.py:2557: FutureWarning: `distplot` is a deprecated function and will be removed in a future version. Please adapt your code to use either `displot` (a figure-level function with similar flexibility) or `histplot` (an axes-level function for histograms).\n",
            "  warnings.warn(msg, FutureWarning)\n"
          ],
          "name": "stderr"
        },
        {
          "output_type": "display_data",
          "data": {
            "image/png": "[encoded data removed]",
            "text/plain": [
              "<Figure size 432x288 with 1 Axes>"
            ]
          },
          "metadata": {
            "tags": [],
            "needs_background": "light"
          }
        }
      ]
    },
    {
      "cell_type": "code",
      "metadata": {
        "colab": {
          "base_uri": "https://localhost:8080/"
        },
        "id": "SRyEbb0gbdIB",
        "outputId": "a74db18a-75cc-44a2-b009-2d48e8147f78"
      },
      "source": [
        "df['weight'].skew()"
      ],
      "execution_count": null,
      "outputs": [
        {
          "output_type": "execute_result",
          "data": {
            "text/plain": [
              "-0.001119735709512571"
            ]
          },
          "metadata": {
            "tags": []
          },
          "execution_count": 27
        }
      ]
    },
    {
      "cell_type": "code",
      "metadata": {
        "colab": {
          "base_uri": "https://localhost:8080/",
          "height": 333
        },
        "id": "Mg0vDgxl6nag",
        "outputId": "0e9ebb4d-4a59-4d29-a1a9-8a0f93017607"
      },
      "source": [
        "sns.distplot(df['height']);"
      ],
      "execution_count": null,
      "outputs": [
        {
          "output_type": "stream",
          "text": [
            "/usr/local/lib/python3.7/dist-packages/seaborn/distributions.py:2557: FutureWarning: `distplot` is a deprecated function and will be removed in a future version. Please adapt your code to use either `displot` (a figure-level function with similar flexibility) or `histplot` (an axes-level function for histograms).\n",
            "  warnings.warn(msg, FutureWarning)\n"
          ],
          "name": "stderr"
        },
        {
          "output_type": "display_data",
          "data": {
            "image/png": "[encoded data removed]",
            "text/plain": [
              "<Figure size 432x288 with 1 Axes>"
            ]
          },
          "metadata": {
            "tags": [],
            "needs_background": "light"
          }
        }
      ]
    },
    {
      "cell_type": "code",
      "metadata": {
        "colab": {
          "base_uri": "https://localhost:8080/"
        },
        "id": "x7576P5GbdIB",
        "outputId": "0f9cb909-cc7b-4200-8422-1508024f8423"
      },
      "source": [
        "df['lab_result_1'].skew()"
      ],
      "execution_count": null,
      "outputs": [
        {
          "output_type": "execute_result",
          "data": {
            "text/plain": [
              "0.0033400626648064126"
            ]
          },
          "metadata": {
            "tags": []
          },
          "execution_count": 29
        }
      ]
    },
    {
      "cell_type": "code",
      "metadata": {
        "colab": {
          "base_uri": "https://localhost:8080/",
          "height": 334
        },
        "id": "RCLupBz76nag",
        "outputId": "4073f323-c044-4f79-ed36-8afc98db356f"
      },
      "source": [
        "sns.distplot(df['lab_result_1']);"
      ],
      "execution_count": null,
      "outputs": [
        {
          "output_type": "stream",
          "text": [
            "/usr/local/lib/python3.7/dist-packages/seaborn/distributions.py:2557: FutureWarning: `distplot` is a deprecated function and will be removed in a future version. Please adapt your code to use either `displot` (a figure-level function with similar flexibility) or `histplot` (an axes-level function for histograms).\n",
            "  warnings.warn(msg, FutureWarning)\n"
          ],
          "name": "stderr"
        },
        {
          "output_type": "display_data",
          "data": {
            "image/png": "[encoded data removed]",
            "text/plain": [
              "<Figure size 432x288 with 1 Axes>"
            ]
          },
          "metadata": {
            "tags": [],
            "needs_background": "light"
          }
        }
      ]
    },
    {
      "cell_type": "code",
      "metadata": {
        "colab": {
          "base_uri": "https://localhost:8080/",
          "height": 334
        },
        "id": "_IFMzQYW6nag",
        "outputId": "64ac7908-f067-454f-91b0-ea24b6dd9912"
      },
      "source": [
        "sns.distplot(df['lab_result_2']);"
      ],
      "execution_count": null,
      "outputs": [
        {
          "output_type": "stream",
          "text": [
            "/usr/local/lib/python3.7/dist-packages/seaborn/distributions.py:2557: FutureWarning: `distplot` is a deprecated function and will be removed in a future version. Please adapt your code to use either `displot` (a figure-level function with similar flexibility) or `histplot` (an axes-level function for histograms).\n",
            "  warnings.warn(msg, FutureWarning)\n"
          ],
          "name": "stderr"
        },
        {
          "output_type": "display_data",
          "data": {
            "image/png": "[encoded data removed]",
            "text/plain": [
              "<Figure size 432x288 with 1 Axes>"
            ]
          },
          "metadata": {
            "tags": [],
            "needs_background": "light"
          }
        }
      ]
    },
    {
      "cell_type": "code",
      "metadata": {
        "colab": {
          "base_uri": "https://localhost:8080/",
          "height": 334
        },
        "id": "BQuvMiqP6nag",
        "outputId": "69247c69-9fa2-43ca-f209-2ff6f3e7534d"
      },
      "source": [
        "sns.distplot(df['lab_result_3']);"
      ],
      "execution_count": null,
      "outputs": [
        {
          "output_type": "stream",
          "text": [
            "/usr/local/lib/python3.7/dist-packages/seaborn/distributions.py:2557: FutureWarning: `distplot` is a deprecated function and will be removed in a future version. Please adapt your code to use either `displot` (a figure-level function with similar flexibility) or `histplot` (an axes-level function for histograms).\n",
            "  warnings.warn(msg, FutureWarning)\n"
          ],
          "name": "stderr"
        },
        {
          "output_type": "display_data",
          "data": {
            "image/png": "[encoded data removed]",
            "text/plain": [
              "<Figure size 432x288 with 1 Axes>"
            ]
          },
          "metadata": {
            "tags": [],
            "needs_background": "light"
          }
        }
      ]
    },
    {
      "cell_type": "code",
      "metadata": {
        "id": "IejDDIszbdIC"
      },
      "source": [
        "df['patient_id'] = pd.to_numeric(df['patient_id'],errors='coerce')\n",
        "df = df.replace(np.nan, 0, regex=True)\n",
        "df['patient_id'] = df['patient_id'].astype(int)"
      ],
      "execution_count": null,
      "outputs": []
    },
    {
      "cell_type": "code",
      "metadata": {
        "id": "WB_MRLOL6nah"
      },
      "source": [
        "df['bill_id'].fillna(int(df['bill_id'].mean()), inplace=True)\n",
        "df['patient_id'].fillna(int(df['patient_id'].mean()), inplace=True)\n",
        "df['amount'].fillna(int(df['amount'].mean()), inplace=True)\n",
        "df['medical_history_1'].fillna(int(df['medical_history_1'].mean()), inplace=True)\n",
        "df['preop_medication_1'].fillna(int(df['preop_medication_1'].mean()), inplace=True)\n",
        "df['lab_result_3'].fillna(int(df['lab_result_3'].mean()), inplace=True)\n",
        "df['lab_result_1'].fillna(int(df['lab_result_1'].mean()), inplace=True)\n",
        "df['lab_result_2'].fillna(int(df['lab_result_2'].mean()), inplace=True)"
      ],
      "execution_count": null,
      "outputs": []
    },
    {
      "cell_type": "markdown",
      "metadata": {
        "id": "gGFy-UiPNbKL"
      },
      "source": [
        "###Sweetviz\n",
        "Beautiful and High Density Visualizations for Exploratory Data Analysis\n",
        "\n",
        "import sweetviz as sv\n",
        "\n",
        "eda = sv.analyze([df, \"data\"],target_feat='medical_history_1')\n",
        "\n",
        "eda.show_html('Report.html')"
      ]
    },
    {
      "cell_type": "code",
      "metadata": {
        "id": "ETLFXhLULZAJ"
      },
      "source": [
        "data = df.drop(['medical_history_2','medical_history_4','medical_history_5','medical_history_6','date_of_birth','gender','race','resident_status','date_of_discharge','medical_history_3','medical_history_7','preop_medication_2','preop_medication_3','preop_medication_4','preop_medication_5','preop_medication_6','symptom_1','symptom_2','symptom_3','symptom_4','symptom_5','weight','height', 'date_of_admission_x','date_of_admission_y', 'id'],axis = 1)"
      ],
      "execution_count": null,
      "outputs": []
    },
    {
      "cell_type": "code",
      "metadata": {
        "id": "s3ROF8bQ6nai"
      },
      "source": [
        "from sklearn.preprocessing import MinMaxScaler\n",
        "\n",
        "scaler = MinMaxScaler()\n",
        "\n",
        "data['bill_id'] = scaler.fit_transform(data[['bill_id']])\n",
        "\n",
        "data['amount'] = scaler.fit_transform(data[['amount']])\n",
        "\n",
        "X = data\n"
      ],
      "execution_count": null,
      "outputs": []
    },
    {
      "cell_type": "code",
      "metadata": {
        "colab": {
          "base_uri": "https://localhost:8080/"
        },
        "id": "An56gSB1LNft",
        "outputId": "7ff83e6e-c0df-465d-8419-c4c224ed03cc"
      },
      "source": [
        "X.dtypes"
      ],
      "execution_count": null,
      "outputs": [
        {
          "output_type": "execute_result",
          "data": {
            "text/plain": [
              "bill_id               float64\n",
              "amount                float64\n",
              "patient_id              int64\n",
              "medical_history_1       int64\n",
              "preop_medication_1      int64\n",
              "lab_result_1          float64\n",
              "lab_result_2          float64\n",
              "lab_result_3          float64\n",
              "dtype: object"
            ]
          },
          "metadata": {
            "tags": []
          },
          "execution_count": 37
        }
      ]
    },
    {
      "cell_type": "code",
      "metadata": {
        "colab": {
          "base_uri": "https://localhost:8080/"
        },
        "id": "tT_PTKzT5Xu8",
        "outputId": "8231db66-16fe-4768-ca77-ef23867244c5"
      },
      "source": [
        "X.isnull().sum()\n"
      ],
      "execution_count": null,
      "outputs": [
        {
          "output_type": "execute_result",
          "data": {
            "text/plain": [
              "bill_id               0\n",
              "amount                0\n",
              "patient_id            0\n",
              "medical_history_1     0\n",
              "preop_medication_1    0\n",
              "lab_result_1          0\n",
              "lab_result_2          0\n",
              "lab_result_3          0\n",
              "dtype: int64"
            ]
          },
          "metadata": {
            "tags": []
          },
          "execution_count": 38
        }
      ]
    },
    {
      "cell_type": "code",
      "metadata": {
        "colab": {
          "base_uri": "https://localhost:8080/",
          "height": 402
        },
        "id": "t7vPU8C0A-_L",
        "outputId": "d8a3af2c-770e-4e43-e97a-8d21f544d522"
      },
      "source": [
        "X.astype(int)"
      ],
      "execution_count": null,
      "outputs": [
        {
          "output_type": "execute_result",
          "data": {
            "text/html": [
              "<div>\n",
              "<style scoped>\n",
              "    .dataframe tbody tr th:only-of-type {\n",
              "        vertical-align: middle;\n",
              "    }\n",
              "\n",
              "    .dataframe tbody tr th {\n",
              "        vertical-align: top;\n",
              "    }\n",
              "\n",
              "    .dataframe thead th {\n",
              "        text-align: right;\n",
              "    }\n",
              "</style>\n",
              "<table border=\"1\" class=\"dataframe\">\n",
              "  <thead>\n",
              "    <tr style=\"text-align: right;\">\n",
              "      <th></th>\n",
              "      <th>bill_id</th>\n",
              "      <th>amount</th>\n",
              "      <th>patient_id</th>\n",
              "      <th>medical_history_1</th>\n",
              "      <th>preop_medication_1</th>\n",
              "      <th>lab_result_1</th>\n",
              "      <th>lab_result_2</th>\n",
              "      <th>lab_result_3</th>\n",
              "    </tr>\n",
              "  </thead>\n",
              "  <tbody>\n",
              "    <tr>\n",
              "      <th>0</th>\n",
              "      <td>0</td>\n",
              "      <td>0</td>\n",
              "      <td>0</td>\n",
              "      <td>0</td>\n",
              "      <td>0</td>\n",
              "      <td>17</td>\n",
              "      <td>31</td>\n",
              "      <td>98</td>\n",
              "    </tr>\n",
              "    <tr>\n",
              "      <th>1</th>\n",
              "      <td>0</td>\n",
              "      <td>0</td>\n",
              "      <td>0</td>\n",
              "      <td>0</td>\n",
              "      <td>0</td>\n",
              "      <td>17</td>\n",
              "      <td>31</td>\n",
              "      <td>98</td>\n",
              "    </tr>\n",
              "    <tr>\n",
              "      <th>2</th>\n",
              "      <td>0</td>\n",
              "      <td>0</td>\n",
              "      <td>0</td>\n",
              "      <td>0</td>\n",
              "      <td>0</td>\n",
              "      <td>17</td>\n",
              "      <td>31</td>\n",
              "      <td>98</td>\n",
              "    </tr>\n",
              "    <tr>\n",
              "      <th>3</th>\n",
              "      <td>0</td>\n",
              "      <td>0</td>\n",
              "      <td>0</td>\n",
              "      <td>0</td>\n",
              "      <td>0</td>\n",
              "      <td>17</td>\n",
              "      <td>31</td>\n",
              "      <td>98</td>\n",
              "    </tr>\n",
              "    <tr>\n",
              "      <th>4</th>\n",
              "      <td>0</td>\n",
              "      <td>0</td>\n",
              "      <td>0</td>\n",
              "      <td>0</td>\n",
              "      <td>1</td>\n",
              "      <td>15</td>\n",
              "      <td>28</td>\n",
              "      <td>68</td>\n",
              "    </tr>\n",
              "    <tr>\n",
              "      <th>...</th>\n",
              "      <td>...</td>\n",
              "      <td>...</td>\n",
              "      <td>...</td>\n",
              "      <td>...</td>\n",
              "      <td>...</td>\n",
              "      <td>...</td>\n",
              "      <td>...</td>\n",
              "      <td>...</td>\n",
              "    </tr>\n",
              "    <tr>\n",
              "      <th>16971</th>\n",
              "      <td>0</td>\n",
              "      <td>0</td>\n",
              "      <td>0</td>\n",
              "      <td>0</td>\n",
              "      <td>1</td>\n",
              "      <td>15</td>\n",
              "      <td>29</td>\n",
              "      <td>113</td>\n",
              "    </tr>\n",
              "    <tr>\n",
              "      <th>16972</th>\n",
              "      <td>0</td>\n",
              "      <td>0</td>\n",
              "      <td>0</td>\n",
              "      <td>0</td>\n",
              "      <td>1</td>\n",
              "      <td>12</td>\n",
              "      <td>29</td>\n",
              "      <td>115</td>\n",
              "    </tr>\n",
              "    <tr>\n",
              "      <th>16973</th>\n",
              "      <td>0</td>\n",
              "      <td>0</td>\n",
              "      <td>0</td>\n",
              "      <td>0</td>\n",
              "      <td>1</td>\n",
              "      <td>12</td>\n",
              "      <td>29</td>\n",
              "      <td>115</td>\n",
              "    </tr>\n",
              "    <tr>\n",
              "      <th>16974</th>\n",
              "      <td>0</td>\n",
              "      <td>0</td>\n",
              "      <td>0</td>\n",
              "      <td>0</td>\n",
              "      <td>1</td>\n",
              "      <td>12</td>\n",
              "      <td>29</td>\n",
              "      <td>115</td>\n",
              "    </tr>\n",
              "    <tr>\n",
              "      <th>16975</th>\n",
              "      <td>0</td>\n",
              "      <td>0</td>\n",
              "      <td>0</td>\n",
              "      <td>0</td>\n",
              "      <td>1</td>\n",
              "      <td>12</td>\n",
              "      <td>29</td>\n",
              "      <td>115</td>\n",
              "    </tr>\n",
              "  </tbody>\n",
              "</table>\n",
              "<p>16976 rows × 8 columns</p>\n",
              "</div>"
            ],
            "text/plain": [
              "       bill_id  amount  patient_id  ...  lab_result_1  lab_result_2  lab_result_3\n",
              "0            0       0           0  ...            17            31            98\n",
              "1            0       0           0  ...            17            31            98\n",
              "2            0       0           0  ...            17            31            98\n",
              "3            0       0           0  ...            17            31            98\n",
              "4            0       0           0  ...            15            28            68\n",
              "...        ...     ...         ...  ...           ...           ...           ...\n",
              "16971        0       0           0  ...            15            29           113\n",
              "16972        0       0           0  ...            12            29           115\n",
              "16973        0       0           0  ...            12            29           115\n",
              "16974        0       0           0  ...            12            29           115\n",
              "16975        0       0           0  ...            12            29           115\n",
              "\n",
              "[16976 rows x 8 columns]"
            ]
          },
          "metadata": {
            "tags": []
          },
          "execution_count": 39
        }
      ]
    },
    {
      "cell_type": "code",
      "metadata": {
        "colab": {
          "base_uri": "https://localhost:8080/"
        },
        "id": "OJLAgRPB6nai",
        "outputId": "288fc032-834e-4548-a970-6154d00f5ad8"
      },
      "source": [
        "X['medical_history_1'].value_counts()"
      ],
      "execution_count": null,
      "outputs": [
        {
          "output_type": "execute_result",
          "data": {
            "text/plain": [
              "0    14084\n",
              "1     2892\n",
              "Name: medical_history_1, dtype: int64"
            ]
          },
          "metadata": {
            "tags": []
          },
          "execution_count": 40
        }
      ]
    },
    {
      "cell_type": "code",
      "metadata": {
        "id": "XmHlivXy6naj"
      },
      "source": [
        "x = X.drop('medical_history_1', axis = 1)\n",
        "y = X['medical_history_1']\n",
        "\n",
        "# Train Test Split\n",
        "from sklearn.model_selection import train_test_split\n",
        "\n",
        "x_train, x_test, y_train, y_test = train_test_split(x,y,test_size = 0.2, random_state = 42)"
      ],
      "execution_count": null,
      "outputs": []
    },
    {
      "cell_type": "code",
      "metadata": {
        "id": "zWuFmkCs6naj"
      },
      "source": [
        "from sklearn.linear_model import RidgeClassifier\n",
        "from sklearn.metrics import accuracy_score, confusion_matrix"
      ],
      "execution_count": null,
      "outputs": []
    },
    {
      "cell_type": "code",
      "metadata": {
        "id": "7oyIfjzwZ4uo"
      },
      "source": [
        "ridge_classifier = RidgeClassifier().fit(x_train, y_train)"
      ],
      "execution_count": null,
      "outputs": []
    },
    {
      "cell_type": "code",
      "metadata": {
        "colab": {
          "base_uri": "https://localhost:8080/"
        },
        "id": "i-3qjXMyZ8ju",
        "outputId": "9413155b-bac1-44fa-be28-e99ede326247"
      },
      "source": [
        "y_prediction = ridge_classifier.predict(x_train)\n",
        "\n",
        "print(f'Accuracy of Ridge Classifier on Train Set : {accuracy_score(y_train, y_prediction)*100:.2f}%')"
      ],
      "execution_count": null,
      "outputs": [
        {
          "output_type": "stream",
          "text": [
            "Accuracy of Ridge Classifier on Train Set : 82.89%\n"
          ],
          "name": "stdout"
        }
      ]
    },
    {
      "cell_type": "markdown",
      "metadata": {
        "id": "WMbasgCQOdgG"
      },
      "source": [
        "Model Evaluation "
      ]
    },
    {
      "cell_type": "code",
      "metadata": {
        "colab": {
          "base_uri": "https://localhost:8080/"
        },
        "id": "yi1yfxW-OfrZ",
        "outputId": "2a02fda1-36de-4930-b372-adcb237b35f8"
      },
      "source": [
        "y_prediction = ridge_classifier.predict(x_test)\n",
        "\n",
        "print(f'Accuracy of Ridge Classifier on Test Set : {accuracy_score(y_test, y_prediction)*100:.2f}%')"
      ],
      "execution_count": null,
      "outputs": [
        {
          "output_type": "stream",
          "text": [
            "Accuracy of Ridge Classifier on Test Set : 83.27%\n"
          ],
          "name": "stdout"
        }
      ]
    },
    {
      "cell_type": "markdown",
      "metadata": {
        "id": "Wi-pO7JBOyep"
      },
      "source": [
        "Random Forest Classifier"
      ]
    },
    {
      "cell_type": "code",
      "metadata": {
        "colab": {
          "base_uri": "https://localhost:8080/"
        },
        "id": "Mqt_X2Bj96zZ",
        "outputId": "0464ee00-1bbd-4934-af9d-6bcbdc983ac5"
      },
      "source": [
        "from sklearn.ensemble import RandomForestClassifier\n",
        "\n",
        "rfc = RandomForestClassifier(n_estimators = 100, max_depth = 10).fit(x_train, y_train)\n",
        "\n",
        "y_prediction = rfc.predict(x_train)\n",
        "\n",
        "print(f'Accuracy of Random Forest Classifier on Train Set : {accuracy_score(y_train, y_prediction)*100:.2f}%')\n",
        "\n",
        "y_prediction = rfc.predict(x_test)\n",
        "\n",
        "print(f'Accuracy of Random Forest Classifier on Test Set : {accuracy_score(y_test, y_prediction)*100:.2f}%')"
      ],
      "execution_count": null,
      "outputs": [
        {
          "output_type": "stream",
          "text": [
            "Accuracy of Random Forest Classifier on Train Set : 83.51%\n",
            "Accuracy of Random Forest Classifier on Test Set : 83.48%\n"
          ],
          "name": "stdout"
        }
      ]
    },
    {
      "cell_type": "markdown",
      "metadata": {
        "id": "AoegcAF3PByx"
      },
      "source": [
        "Accuracy on Training Set is  more that Represents Overfitting.\n",
        "\n",
        "We can Decrease the Depth of the Tree to Prevent Model from Overfitting, \n",
        "\n",
        "We Must Carefully Optimize the Parameters, Parameter Tuning is Very Critical Part.\n",
        "\n",
        "We can Increase the Number of Trees which will Help the Model to be more Generalized and Reduce Overfitting.\n",
        "\n",
        "Another way is to do Cross Validation which Allows to Use Every Sample in Train Set and Test Set.\n",
        "\n"
      ]
    },
    {
      "cell_type": "markdown",
      "metadata": {
        "id": "w7gBaa5rbdIG"
      },
      "source": [
        "# #Grid Search Cross Validation\n"
      ]
    },
    {
      "cell_type": "code",
      "metadata": {
        "id": "cDMaqqENCyEQ"
      },
      "source": [
        "from sklearn.model_selection import GridSearchCV\n",
        "\n",
        "parameters  = {'n_estimators' : [150, 200, 250, 300], 'max_depth' : [15, 20, 25]}\n",
        "\n",
        "gsv_rfc = GridSearchCV(estimator = rfc, param_grid = parameters, n_jobs = -1, cv = 5).fit(x_train,y_train)"
      ],
      "execution_count": null,
      "outputs": []
    },
    {
      "cell_type": "code",
      "metadata": {
        "colab": {
          "base_uri": "https://localhost:8080/"
        },
        "id": "Q-LVoVTcDFdt",
        "outputId": "aaf2114d-6692-4ebd-c6be-2e69729df694"
      },
      "source": [
        "# Best Parameters :\n",
        "\n",
        "gsv_rfc.best_params_"
      ],
      "execution_count": null,
      "outputs": [
        {
          "output_type": "execute_result",
          "data": {
            "text/plain": [
              "{'max_depth': 25, 'n_estimators': 200}"
            ]
          },
          "metadata": {
            "tags": []
          },
          "execution_count": 48
        }
      ]
    },
    {
      "cell_type": "code",
      "metadata": {
        "colab": {
          "base_uri": "https://localhost:8080/"
        },
        "id": "hJo3i0JiDQsw",
        "outputId": "326199d5-cdaf-453f-8545-ece31df5d22e"
      },
      "source": [
        "# Best Score :\n",
        "\n",
        "print(f'Best Accuracy Score obtained from Grid Search Cross Validation : {gsv_rfc.best_score_*100:.2f}%')"
      ],
      "execution_count": null,
      "outputs": [
        {
          "output_type": "stream",
          "text": [
            "Best Accuracy Score obtained from Grid Search Cross Validation : 83.98%\n"
          ],
          "name": "stdout"
        }
      ]
    },
    {
      "cell_type": "markdown",
      "metadata": {
        "id": "CoBWATdnbdIH"
      },
      "source": [
        "Grid Search Cross Validation has Improved the Accuracy Score of the Model.\n",
        "\n",
        "Checking the Accuracy of Model on the Entire Data Set."
      ]
    },
    {
      "cell_type": "code",
      "metadata": {
        "colab": {
          "base_uri": "https://localhost:8080/"
        },
        "id": "2cUFAnPXDS4N",
        "outputId": "00463684-9f72-4319-c6a0-92f73c5230cd"
      },
      "source": [
        "gsv_rfc = GridSearchCV(estimator = rfc, param_grid = parameters, n_jobs = -1, cv = 5).fit(x,y)\n",
        "\n",
        "print(f'Best Accuracy Score obtained from Grid Search Cross Validation : {gsv_rfc.best_score_*100:.2f}%')"
      ],
      "execution_count": null,
      "outputs": [
        {
          "output_type": "stream",
          "text": [
            "Best Accuracy Score obtained from Grid Search Cross Validation : 82.81%\n"
          ],
          "name": "stdout"
        }
      ]
    },
    {
      "cell_type": "code",
      "metadata": {
        "id": "aBdKgff_jjFc"
      },
      "source": [
        ""
      ],
      "execution_count": null,
      "outputs": []
    },
    {
      "cell_type": "code",
      "metadata": {
        "id": "I3A0VshXjjEQ"
      },
      "source": [
        ""
      ],
      "execution_count": null,
      "outputs": []
    }
  ]
}