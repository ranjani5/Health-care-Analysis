{
  "nbformat": 4,
  "nbformat_minor": 0,
  "metadata": {
    "kernelspec": {
      "display_name": "Python 3",
      "language": "python",
      "name": "python3"
    },
    "language_info": {
      "codemirror_mode": {
        "name": "ipython",
        "version": 3
      },
      "file_extension": ".py",
      "mimetype": "text/x-python",
      "name": "python",
      "nbconvert_exporter": "python",
      "pygments_lexer": "ipython3",
      "version": "3.7.6"
    },
    "colab": {
      "name": "Health care analysis.ipynb",
      "provenance": [],
      "collapsed_sections": []
    }
  },
  "cells": [
    {
      "cell_type": "code",
      "metadata": {
        "id": "GrxoRn766naT"
      },
      "source": [
        "import pandas as pd\n",
        "import numpy as np\n",
        "import matplotlib.pyplot as plt\n",
        "import seaborn as sns\n",
        "%matplotlib inline\n",
        "from sklearn.preprocessing import LabelEncoder\n",
        "from sklearn.linear_model import LinearRegression\n",
        "import statsmodels.formula.api as smf\n",
        "from sklearn.model_selection import train_test_split\n",
        "from sklearn.metrics import mean_squared_error, r2_score\n"
      ],
      "execution_count": 442,
      "outputs": []
    },
    {
      "cell_type": "code",
      "metadata": {
        "id": "_tlK1mhgRgl8",
        "colab": {
          "base_uri": "https://localhost:8080/"
        },
        "outputId": "1b3323de-175c-4a0d-c613-9b42953ccf94"
      },
      "source": [
        "from google.colab import drive\n",
        "drive.mount('/content/gdrive')"
      ],
      "execution_count": 443,
      "outputs": [
        {
          "output_type": "stream",
          "text": [
            "Drive already mounted at /content/gdrive; to attempt to forcibly remount, call drive.mount(\"/content/gdrive\", force_remount=True).\n"
          ],
          "name": "stdout"
        }
      ]
    },
    {
      "cell_type": "code",
      "metadata": {
        "id": "XLtgxI0V6naa"
      },
      "source": [
        "df1=pd.read_csv('/content/gdrive/MyDrive/bill_amount.csv')\n",
        "df2=pd.read_csv('/content/gdrive/MyDrive/bill_id.csv')\n",
        "df3=pd.read_csv('/content/gdrive/MyDrive/clinical_data.csv')\n",
        "df4=pd.read_csv('/content/gdrive/MyDrive/demographics.csv')"
      ],
      "execution_count": 444,
      "outputs": []
    },
    {
      "cell_type": "code",
      "metadata": {
        "id": "eGDqqNGq6nab"
      },
      "source": [
        "df5 = [df1, df2, df3, df4]"
      ],
      "execution_count": 445,
      "outputs": []
    },
    {
      "cell_type": "code",
      "metadata": {
        "id": "MZ-UsYag6nab"
      },
      "source": [
        "df = pd.concat(df5)"
      ],
      "execution_count": 446,
      "outputs": []
    },
    {
      "cell_type": "code",
      "metadata": {
        "colab": {
          "base_uri": "https://localhost:8080/",
          "height": 422
        },
        "id": "bKzLNBUL6nab",
        "outputId": "0a035dbd-a92c-49f4-cd54-c90f37a4f163"
      },
      "source": [
        "df"
      ],
      "execution_count": 447,
      "outputs": [
        {
          "output_type": "execute_result",
          "data": {
            "text/html": [
              "<div>\n",
              "<style scoped>\n",
              "    .dataframe tbody tr th:only-of-type {\n",
              "        vertical-align: middle;\n",
              "    }\n",
              "\n",
              "    .dataframe tbody tr th {\n",
              "        vertical-align: top;\n",
              "    }\n",
              "\n",
              "    .dataframe thead th {\n",
              "        text-align: right;\n",
              "    }\n",
              "</style>\n",
              "<table border=\"1\" class=\"dataframe\">\n",
              "  <thead>\n",
              "    <tr style=\"text-align: right;\">\n",
              "      <th></th>\n",
              "      <th>bill_id</th>\n",
              "      <th>amount</th>\n",
              "      <th>patient_id</th>\n",
              "      <th>date_of_admission</th>\n",
              "      <th>id</th>\n",
              "      <th>date_of_discharge</th>\n",
              "      <th>medical_history_1</th>\n",
              "      <th>medical_history_2</th>\n",
              "      <th>medical_history_3</th>\n",
              "      <th>medical_history_4</th>\n",
              "      <th>medical_history_5</th>\n",
              "      <th>medical_history_6</th>\n",
              "      <th>medical_history_7</th>\n",
              "      <th>preop_medication_1</th>\n",
              "      <th>preop_medication_2</th>\n",
              "      <th>preop_medication_3</th>\n",
              "      <th>preop_medication_4</th>\n",
              "      <th>preop_medication_5</th>\n",
              "      <th>preop_medication_6</th>\n",
              "      <th>symptom_1</th>\n",
              "      <th>symptom_2</th>\n",
              "      <th>symptom_3</th>\n",
              "      <th>symptom_4</th>\n",
              "      <th>symptom_5</th>\n",
              "      <th>lab_result_1</th>\n",
              "      <th>lab_result_2</th>\n",
              "      <th>lab_result_3</th>\n",
              "      <th>weight</th>\n",
              "      <th>height</th>\n",
              "      <th>gender</th>\n",
              "      <th>race</th>\n",
              "      <th>resident_status</th>\n",
              "      <th>date_of_birth</th>\n",
              "    </tr>\n",
              "  </thead>\n",
              "  <tbody>\n",
              "    <tr>\n",
              "      <th>0</th>\n",
              "      <td>4.031510e+07</td>\n",
              "      <td>1552.634830</td>\n",
              "      <td>NaN</td>\n",
              "      <td>NaN</td>\n",
              "      <td>NaN</td>\n",
              "      <td>NaN</td>\n",
              "      <td>NaN</td>\n",
              "      <td>NaN</td>\n",
              "      <td>NaN</td>\n",
              "      <td>NaN</td>\n",
              "      <td>NaN</td>\n",
              "      <td>NaN</td>\n",
              "      <td>NaN</td>\n",
              "      <td>NaN</td>\n",
              "      <td>NaN</td>\n",
              "      <td>NaN</td>\n",
              "      <td>NaN</td>\n",
              "      <td>NaN</td>\n",
              "      <td>NaN</td>\n",
              "      <td>NaN</td>\n",
              "      <td>NaN</td>\n",
              "      <td>NaN</td>\n",
              "      <td>NaN</td>\n",
              "      <td>NaN</td>\n",
              "      <td>NaN</td>\n",
              "      <td>NaN</td>\n",
              "      <td>NaN</td>\n",
              "      <td>NaN</td>\n",
              "      <td>NaN</td>\n",
              "      <td>NaN</td>\n",
              "      <td>NaN</td>\n",
              "      <td>NaN</td>\n",
              "      <td>NaN</td>\n",
              "    </tr>\n",
              "    <tr>\n",
              "      <th>1</th>\n",
              "      <td>2.660045e+09</td>\n",
              "      <td>1032.011951</td>\n",
              "      <td>NaN</td>\n",
              "      <td>NaN</td>\n",
              "      <td>NaN</td>\n",
              "      <td>NaN</td>\n",
              "      <td>NaN</td>\n",
              "      <td>NaN</td>\n",
              "      <td>NaN</td>\n",
              "      <td>NaN</td>\n",
              "      <td>NaN</td>\n",
              "      <td>NaN</td>\n",
              "      <td>NaN</td>\n",
              "      <td>NaN</td>\n",
              "      <td>NaN</td>\n",
              "      <td>NaN</td>\n",
              "      <td>NaN</td>\n",
              "      <td>NaN</td>\n",
              "      <td>NaN</td>\n",
              "      <td>NaN</td>\n",
              "      <td>NaN</td>\n",
              "      <td>NaN</td>\n",
              "      <td>NaN</td>\n",
              "      <td>NaN</td>\n",
              "      <td>NaN</td>\n",
              "      <td>NaN</td>\n",
              "      <td>NaN</td>\n",
              "      <td>NaN</td>\n",
              "      <td>NaN</td>\n",
              "      <td>NaN</td>\n",
              "      <td>NaN</td>\n",
              "      <td>NaN</td>\n",
              "      <td>NaN</td>\n",
              "    </tr>\n",
              "    <tr>\n",
              "      <th>2</th>\n",
              "      <td>1.148335e+09</td>\n",
              "      <td>6469.605351</td>\n",
              "      <td>NaN</td>\n",
              "      <td>NaN</td>\n",
              "      <td>NaN</td>\n",
              "      <td>NaN</td>\n",
              "      <td>NaN</td>\n",
              "      <td>NaN</td>\n",
              "      <td>NaN</td>\n",
              "      <td>NaN</td>\n",
              "      <td>NaN</td>\n",
              "      <td>NaN</td>\n",
              "      <td>NaN</td>\n",
              "      <td>NaN</td>\n",
              "      <td>NaN</td>\n",
              "      <td>NaN</td>\n",
              "      <td>NaN</td>\n",
              "      <td>NaN</td>\n",
              "      <td>NaN</td>\n",
              "      <td>NaN</td>\n",
              "      <td>NaN</td>\n",
              "      <td>NaN</td>\n",
              "      <td>NaN</td>\n",
              "      <td>NaN</td>\n",
              "      <td>NaN</td>\n",
              "      <td>NaN</td>\n",
              "      <td>NaN</td>\n",
              "      <td>NaN</td>\n",
              "      <td>NaN</td>\n",
              "      <td>NaN</td>\n",
              "      <td>NaN</td>\n",
              "      <td>NaN</td>\n",
              "      <td>NaN</td>\n",
              "    </tr>\n",
              "    <tr>\n",
              "      <th>3</th>\n",
              "      <td>3.818426e+09</td>\n",
              "      <td>755.965425</td>\n",
              "      <td>NaN</td>\n",
              "      <td>NaN</td>\n",
              "      <td>NaN</td>\n",
              "      <td>NaN</td>\n",
              "      <td>NaN</td>\n",
              "      <td>NaN</td>\n",
              "      <td>NaN</td>\n",
              "      <td>NaN</td>\n",
              "      <td>NaN</td>\n",
              "      <td>NaN</td>\n",
              "      <td>NaN</td>\n",
              "      <td>NaN</td>\n",
              "      <td>NaN</td>\n",
              "      <td>NaN</td>\n",
              "      <td>NaN</td>\n",
              "      <td>NaN</td>\n",
              "      <td>NaN</td>\n",
              "      <td>NaN</td>\n",
              "      <td>NaN</td>\n",
              "      <td>NaN</td>\n",
              "      <td>NaN</td>\n",
              "      <td>NaN</td>\n",
              "      <td>NaN</td>\n",
              "      <td>NaN</td>\n",
              "      <td>NaN</td>\n",
              "      <td>NaN</td>\n",
              "      <td>NaN</td>\n",
              "      <td>NaN</td>\n",
              "      <td>NaN</td>\n",
              "      <td>NaN</td>\n",
              "      <td>NaN</td>\n",
              "    </tr>\n",
              "    <tr>\n",
              "      <th>4</th>\n",
              "      <td>9.833542e+09</td>\n",
              "      <td>897.347816</td>\n",
              "      <td>NaN</td>\n",
              "      <td>NaN</td>\n",
              "      <td>NaN</td>\n",
              "      <td>NaN</td>\n",
              "      <td>NaN</td>\n",
              "      <td>NaN</td>\n",
              "      <td>NaN</td>\n",
              "      <td>NaN</td>\n",
              "      <td>NaN</td>\n",
              "      <td>NaN</td>\n",
              "      <td>NaN</td>\n",
              "      <td>NaN</td>\n",
              "      <td>NaN</td>\n",
              "      <td>NaN</td>\n",
              "      <td>NaN</td>\n",
              "      <td>NaN</td>\n",
              "      <td>NaN</td>\n",
              "      <td>NaN</td>\n",
              "      <td>NaN</td>\n",
              "      <td>NaN</td>\n",
              "      <td>NaN</td>\n",
              "      <td>NaN</td>\n",
              "      <td>NaN</td>\n",
              "      <td>NaN</td>\n",
              "      <td>NaN</td>\n",
              "      <td>NaN</td>\n",
              "      <td>NaN</td>\n",
              "      <td>NaN</td>\n",
              "      <td>NaN</td>\n",
              "      <td>NaN</td>\n",
              "      <td>NaN</td>\n",
              "    </tr>\n",
              "    <tr>\n",
              "      <th>...</th>\n",
              "      <td>...</td>\n",
              "      <td>...</td>\n",
              "      <td>...</td>\n",
              "      <td>...</td>\n",
              "      <td>...</td>\n",
              "      <td>...</td>\n",
              "      <td>...</td>\n",
              "      <td>...</td>\n",
              "      <td>...</td>\n",
              "      <td>...</td>\n",
              "      <td>...</td>\n",
              "      <td>...</td>\n",
              "      <td>...</td>\n",
              "      <td>...</td>\n",
              "      <td>...</td>\n",
              "      <td>...</td>\n",
              "      <td>...</td>\n",
              "      <td>...</td>\n",
              "      <td>...</td>\n",
              "      <td>...</td>\n",
              "      <td>...</td>\n",
              "      <td>...</td>\n",
              "      <td>...</td>\n",
              "      <td>...</td>\n",
              "      <td>...</td>\n",
              "      <td>...</td>\n",
              "      <td>...</td>\n",
              "      <td>...</td>\n",
              "      <td>...</td>\n",
              "      <td>...</td>\n",
              "      <td>...</td>\n",
              "      <td>...</td>\n",
              "      <td>...</td>\n",
              "    </tr>\n",
              "    <tr>\n",
              "      <th>2995</th>\n",
              "      <td>NaN</td>\n",
              "      <td>NaN</td>\n",
              "      <td>0ba769860b060834b8c728ad26137c7f</td>\n",
              "      <td>NaN</td>\n",
              "      <td>NaN</td>\n",
              "      <td>NaN</td>\n",
              "      <td>NaN</td>\n",
              "      <td>NaN</td>\n",
              "      <td>NaN</td>\n",
              "      <td>NaN</td>\n",
              "      <td>NaN</td>\n",
              "      <td>NaN</td>\n",
              "      <td>NaN</td>\n",
              "      <td>NaN</td>\n",
              "      <td>NaN</td>\n",
              "      <td>NaN</td>\n",
              "      <td>NaN</td>\n",
              "      <td>NaN</td>\n",
              "      <td>NaN</td>\n",
              "      <td>NaN</td>\n",
              "      <td>NaN</td>\n",
              "      <td>NaN</td>\n",
              "      <td>NaN</td>\n",
              "      <td>NaN</td>\n",
              "      <td>NaN</td>\n",
              "      <td>NaN</td>\n",
              "      <td>NaN</td>\n",
              "      <td>NaN</td>\n",
              "      <td>NaN</td>\n",
              "      <td>Female</td>\n",
              "      <td>Malay</td>\n",
              "      <td>PR</td>\n",
              "      <td>1948-01-02</td>\n",
              "    </tr>\n",
              "    <tr>\n",
              "      <th>2996</th>\n",
              "      <td>NaN</td>\n",
              "      <td>NaN</td>\n",
              "      <td>a27a55b92a7afd9cfc427085a2734385</td>\n",
              "      <td>NaN</td>\n",
              "      <td>NaN</td>\n",
              "      <td>NaN</td>\n",
              "      <td>NaN</td>\n",
              "      <td>NaN</td>\n",
              "      <td>NaN</td>\n",
              "      <td>NaN</td>\n",
              "      <td>NaN</td>\n",
              "      <td>NaN</td>\n",
              "      <td>NaN</td>\n",
              "      <td>NaN</td>\n",
              "      <td>NaN</td>\n",
              "      <td>NaN</td>\n",
              "      <td>NaN</td>\n",
              "      <td>NaN</td>\n",
              "      <td>NaN</td>\n",
              "      <td>NaN</td>\n",
              "      <td>NaN</td>\n",
              "      <td>NaN</td>\n",
              "      <td>NaN</td>\n",
              "      <td>NaN</td>\n",
              "      <td>NaN</td>\n",
              "      <td>NaN</td>\n",
              "      <td>NaN</td>\n",
              "      <td>NaN</td>\n",
              "      <td>NaN</td>\n",
              "      <td>Female</td>\n",
              "      <td>Malay</td>\n",
              "      <td>Singaporean</td>\n",
              "      <td>1942-03-08</td>\n",
              "    </tr>\n",
              "    <tr>\n",
              "      <th>2997</th>\n",
              "      <td>NaN</td>\n",
              "      <td>NaN</td>\n",
              "      <td>c17a0f4c4f3931bed36081fabf501396</td>\n",
              "      <td>NaN</td>\n",
              "      <td>NaN</td>\n",
              "      <td>NaN</td>\n",
              "      <td>NaN</td>\n",
              "      <td>NaN</td>\n",
              "      <td>NaN</td>\n",
              "      <td>NaN</td>\n",
              "      <td>NaN</td>\n",
              "      <td>NaN</td>\n",
              "      <td>NaN</td>\n",
              "      <td>NaN</td>\n",
              "      <td>NaN</td>\n",
              "      <td>NaN</td>\n",
              "      <td>NaN</td>\n",
              "      <td>NaN</td>\n",
              "      <td>NaN</td>\n",
              "      <td>NaN</td>\n",
              "      <td>NaN</td>\n",
              "      <td>NaN</td>\n",
              "      <td>NaN</td>\n",
              "      <td>NaN</td>\n",
              "      <td>NaN</td>\n",
              "      <td>NaN</td>\n",
              "      <td>NaN</td>\n",
              "      <td>NaN</td>\n",
              "      <td>NaN</td>\n",
              "      <td>Male</td>\n",
              "      <td>Indian</td>\n",
              "      <td>Singaporean</td>\n",
              "      <td>1964-01-02</td>\n",
              "    </tr>\n",
              "    <tr>\n",
              "      <th>2998</th>\n",
              "      <td>NaN</td>\n",
              "      <td>NaN</td>\n",
              "      <td>c5ca8e8bfd744a1ef6f77318bcb591b4</td>\n",
              "      <td>NaN</td>\n",
              "      <td>NaN</td>\n",
              "      <td>NaN</td>\n",
              "      <td>NaN</td>\n",
              "      <td>NaN</td>\n",
              "      <td>NaN</td>\n",
              "      <td>NaN</td>\n",
              "      <td>NaN</td>\n",
              "      <td>NaN</td>\n",
              "      <td>NaN</td>\n",
              "      <td>NaN</td>\n",
              "      <td>NaN</td>\n",
              "      <td>NaN</td>\n",
              "      <td>NaN</td>\n",
              "      <td>NaN</td>\n",
              "      <td>NaN</td>\n",
              "      <td>NaN</td>\n",
              "      <td>NaN</td>\n",
              "      <td>NaN</td>\n",
              "      <td>NaN</td>\n",
              "      <td>NaN</td>\n",
              "      <td>NaN</td>\n",
              "      <td>NaN</td>\n",
              "      <td>NaN</td>\n",
              "      <td>NaN</td>\n",
              "      <td>NaN</td>\n",
              "      <td>Female</td>\n",
              "      <td>Chinese</td>\n",
              "      <td>Singaporean</td>\n",
              "      <td>1973-04-19</td>\n",
              "    </tr>\n",
              "    <tr>\n",
              "      <th>2999</th>\n",
              "      <td>NaN</td>\n",
              "      <td>NaN</td>\n",
              "      <td>20b609609d4dbb834d722ddf29f18879</td>\n",
              "      <td>NaN</td>\n",
              "      <td>NaN</td>\n",
              "      <td>NaN</td>\n",
              "      <td>NaN</td>\n",
              "      <td>NaN</td>\n",
              "      <td>NaN</td>\n",
              "      <td>NaN</td>\n",
              "      <td>NaN</td>\n",
              "      <td>NaN</td>\n",
              "      <td>NaN</td>\n",
              "      <td>NaN</td>\n",
              "      <td>NaN</td>\n",
              "      <td>NaN</td>\n",
              "      <td>NaN</td>\n",
              "      <td>NaN</td>\n",
              "      <td>NaN</td>\n",
              "      <td>NaN</td>\n",
              "      <td>NaN</td>\n",
              "      <td>NaN</td>\n",
              "      <td>NaN</td>\n",
              "      <td>NaN</td>\n",
              "      <td>NaN</td>\n",
              "      <td>NaN</td>\n",
              "      <td>NaN</td>\n",
              "      <td>NaN</td>\n",
              "      <td>NaN</td>\n",
              "      <td>Male</td>\n",
              "      <td>Chinese</td>\n",
              "      <td>Singaporean</td>\n",
              "      <td>1986-09-04</td>\n",
              "    </tr>\n",
              "  </tbody>\n",
              "</table>\n",
              "<p>33600 rows × 33 columns</p>\n",
              "</div>"
            ],
            "text/plain": [
              "           bill_id       amount  ... resident_status date_of_birth\n",
              "0     4.031510e+07  1552.634830  ...             NaN           NaN\n",
              "1     2.660045e+09  1032.011951  ...             NaN           NaN\n",
              "2     1.148335e+09  6469.605351  ...             NaN           NaN\n",
              "3     3.818426e+09   755.965425  ...             NaN           NaN\n",
              "4     9.833542e+09   897.347816  ...             NaN           NaN\n",
              "...            ...          ...  ...             ...           ...\n",
              "2995           NaN          NaN  ...              PR    1948-01-02\n",
              "2996           NaN          NaN  ...     Singaporean    1942-03-08\n",
              "2997           NaN          NaN  ...     Singaporean    1964-01-02\n",
              "2998           NaN          NaN  ...     Singaporean    1973-04-19\n",
              "2999           NaN          NaN  ...     Singaporean    1986-09-04\n",
              "\n",
              "[33600 rows x 33 columns]"
            ]
          },
          "metadata": {
            "tags": []
          },
          "execution_count": 447
        }
      ]
    },
    {
      "cell_type": "code",
      "metadata": {
        "colab": {
          "base_uri": "https://localhost:8080/",
          "height": 393
        },
        "id": "6nPRE9dm6nac",
        "outputId": "482fdda3-b65c-480d-d379-766e281afb19"
      },
      "source": [
        "df.describe(include='all')"
      ],
      "execution_count": 448,
      "outputs": [
        {
          "output_type": "execute_result",
          "data": {
            "text/html": [
              "<div>\n",
              "<style scoped>\n",
              "    .dataframe tbody tr th:only-of-type {\n",
              "        vertical-align: middle;\n",
              "    }\n",
              "\n",
              "    .dataframe tbody tr th {\n",
              "        vertical-align: top;\n",
              "    }\n",
              "\n",
              "    .dataframe thead th {\n",
              "        text-align: right;\n",
              "    }\n",
              "</style>\n",
              "<table border=\"1\" class=\"dataframe\">\n",
              "  <thead>\n",
              "    <tr style=\"text-align: right;\">\n",
              "      <th></th>\n",
              "      <th>bill_id</th>\n",
              "      <th>amount</th>\n",
              "      <th>patient_id</th>\n",
              "      <th>date_of_admission</th>\n",
              "      <th>id</th>\n",
              "      <th>date_of_discharge</th>\n",
              "      <th>medical_history_1</th>\n",
              "      <th>medical_history_2</th>\n",
              "      <th>medical_history_3</th>\n",
              "      <th>medical_history_4</th>\n",
              "      <th>medical_history_5</th>\n",
              "      <th>medical_history_6</th>\n",
              "      <th>medical_history_7</th>\n",
              "      <th>preop_medication_1</th>\n",
              "      <th>preop_medication_2</th>\n",
              "      <th>preop_medication_3</th>\n",
              "      <th>preop_medication_4</th>\n",
              "      <th>preop_medication_5</th>\n",
              "      <th>preop_medication_6</th>\n",
              "      <th>symptom_1</th>\n",
              "      <th>symptom_2</th>\n",
              "      <th>symptom_3</th>\n",
              "      <th>symptom_4</th>\n",
              "      <th>symptom_5</th>\n",
              "      <th>lab_result_1</th>\n",
              "      <th>lab_result_2</th>\n",
              "      <th>lab_result_3</th>\n",
              "      <th>weight</th>\n",
              "      <th>height</th>\n",
              "      <th>gender</th>\n",
              "      <th>race</th>\n",
              "      <th>resident_status</th>\n",
              "      <th>date_of_birth</th>\n",
              "    </tr>\n",
              "  </thead>\n",
              "  <tbody>\n",
              "    <tr>\n",
              "      <th>count</th>\n",
              "      <td>2.720000e+04</td>\n",
              "      <td>13600.000000</td>\n",
              "      <td>16600</td>\n",
              "      <td>17000</td>\n",
              "      <td>3400</td>\n",
              "      <td>3400</td>\n",
              "      <td>3400.000000</td>\n",
              "      <td>3167.000000</td>\n",
              "      <td>3400</td>\n",
              "      <td>3400.000000</td>\n",
              "      <td>3096.000000</td>\n",
              "      <td>3400.000000</td>\n",
              "      <td>3400.000000</td>\n",
              "      <td>3400.000000</td>\n",
              "      <td>3400.000000</td>\n",
              "      <td>3400.000000</td>\n",
              "      <td>3400.000000</td>\n",
              "      <td>3400.000000</td>\n",
              "      <td>3400.000000</td>\n",
              "      <td>3400.000000</td>\n",
              "      <td>3400.000000</td>\n",
              "      <td>3400.000000</td>\n",
              "      <td>3400.000000</td>\n",
              "      <td>3400.000000</td>\n",
              "      <td>3400.000000</td>\n",
              "      <td>3400.000000</td>\n",
              "      <td>3400.000000</td>\n",
              "      <td>3400.000000</td>\n",
              "      <td>3400.000000</td>\n",
              "      <td>3000</td>\n",
              "      <td>3000</td>\n",
              "      <td>3000</td>\n",
              "      <td>3000</td>\n",
              "    </tr>\n",
              "    <tr>\n",
              "      <th>unique</th>\n",
              "      <td>NaN</td>\n",
              "      <td>NaN</td>\n",
              "      <td>3000</td>\n",
              "      <td>1450</td>\n",
              "      <td>3000</td>\n",
              "      <td>1532</td>\n",
              "      <td>NaN</td>\n",
              "      <td>NaN</td>\n",
              "      <td>4</td>\n",
              "      <td>NaN</td>\n",
              "      <td>NaN</td>\n",
              "      <td>NaN</td>\n",
              "      <td>NaN</td>\n",
              "      <td>NaN</td>\n",
              "      <td>NaN</td>\n",
              "      <td>NaN</td>\n",
              "      <td>NaN</td>\n",
              "      <td>NaN</td>\n",
              "      <td>NaN</td>\n",
              "      <td>NaN</td>\n",
              "      <td>NaN</td>\n",
              "      <td>NaN</td>\n",
              "      <td>NaN</td>\n",
              "      <td>NaN</td>\n",
              "      <td>NaN</td>\n",
              "      <td>NaN</td>\n",
              "      <td>NaN</td>\n",
              "      <td>NaN</td>\n",
              "      <td>NaN</td>\n",
              "      <td>4</td>\n",
              "      <td>6</td>\n",
              "      <td>4</td>\n",
              "      <td>2746</td>\n",
              "    </tr>\n",
              "    <tr>\n",
              "      <th>top</th>\n",
              "      <td>NaN</td>\n",
              "      <td>NaN</td>\n",
              "      <td>4e46fddfa404b306809c350aecbf0f6a</td>\n",
              "      <td>2014-05-24</td>\n",
              "      <td>4e46fddfa404b306809c350aecbf0f6a</td>\n",
              "      <td>2011-10-23</td>\n",
              "      <td>NaN</td>\n",
              "      <td>NaN</td>\n",
              "      <td>0</td>\n",
              "      <td>NaN</td>\n",
              "      <td>NaN</td>\n",
              "      <td>NaN</td>\n",
              "      <td>NaN</td>\n",
              "      <td>NaN</td>\n",
              "      <td>NaN</td>\n",
              "      <td>NaN</td>\n",
              "      <td>NaN</td>\n",
              "      <td>NaN</td>\n",
              "      <td>NaN</td>\n",
              "      <td>NaN</td>\n",
              "      <td>NaN</td>\n",
              "      <td>NaN</td>\n",
              "      <td>NaN</td>\n",
              "      <td>NaN</td>\n",
              "      <td>NaN</td>\n",
              "      <td>NaN</td>\n",
              "      <td>NaN</td>\n",
              "      <td>NaN</td>\n",
              "      <td>NaN</td>\n",
              "      <td>Female</td>\n",
              "      <td>Chinese</td>\n",
              "      <td>Singaporean</td>\n",
              "      <td>1975-08-20</td>\n",
              "    </tr>\n",
              "    <tr>\n",
              "      <th>freq</th>\n",
              "      <td>NaN</td>\n",
              "      <td>NaN</td>\n",
              "      <td>17</td>\n",
              "      <td>45</td>\n",
              "      <td>4</td>\n",
              "      <td>9</td>\n",
              "      <td>NaN</td>\n",
              "      <td>NaN</td>\n",
              "      <td>2176</td>\n",
              "      <td>NaN</td>\n",
              "      <td>NaN</td>\n",
              "      <td>NaN</td>\n",
              "      <td>NaN</td>\n",
              "      <td>NaN</td>\n",
              "      <td>NaN</td>\n",
              "      <td>NaN</td>\n",
              "      <td>NaN</td>\n",
              "      <td>NaN</td>\n",
              "      <td>NaN</td>\n",
              "      <td>NaN</td>\n",
              "      <td>NaN</td>\n",
              "      <td>NaN</td>\n",
              "      <td>NaN</td>\n",
              "      <td>NaN</td>\n",
              "      <td>NaN</td>\n",
              "      <td>NaN</td>\n",
              "      <td>NaN</td>\n",
              "      <td>NaN</td>\n",
              "      <td>NaN</td>\n",
              "      <td>1396</td>\n",
              "      <td>1608</td>\n",
              "      <td>1782</td>\n",
              "      <td>4</td>\n",
              "    </tr>\n",
              "    <tr>\n",
              "      <th>mean</th>\n",
              "      <td>5.007147e+09</td>\n",
              "      <td>5464.767783</td>\n",
              "      <td>NaN</td>\n",
              "      <td>NaN</td>\n",
              "      <td>NaN</td>\n",
              "      <td>NaN</td>\n",
              "      <td>0.169118</td>\n",
              "      <td>0.311336</td>\n",
              "      <td>NaN</td>\n",
              "      <td>0.052059</td>\n",
              "      <td>0.063953</td>\n",
              "      <td>0.254706</td>\n",
              "      <td>0.254412</td>\n",
              "      <td>0.503824</td>\n",
              "      <td>0.591176</td>\n",
              "      <td>0.820882</td>\n",
              "      <td>0.523235</td>\n",
              "      <td>0.819706</td>\n",
              "      <td>0.744118</td>\n",
              "      <td>0.619706</td>\n",
              "      <td>0.662353</td>\n",
              "      <td>0.544706</td>\n",
              "      <td>0.726471</td>\n",
              "      <td>0.526765</td>\n",
              "      <td>14.469882</td>\n",
              "      <td>27.431529</td>\n",
              "      <td>99.489706</td>\n",
              "      <td>78.748441</td>\n",
              "      <td>165.084412</td>\n",
              "      <td>NaN</td>\n",
              "      <td>NaN</td>\n",
              "      <td>NaN</td>\n",
              "      <td>NaN</td>\n",
              "    </tr>\n",
              "    <tr>\n",
              "      <th>std</th>\n",
              "      <td>2.885866e+09</td>\n",
              "      <td>7717.479509</td>\n",
              "      <td>NaN</td>\n",
              "      <td>NaN</td>\n",
              "      <td>NaN</td>\n",
              "      <td>NaN</td>\n",
              "      <td>0.374911</td>\n",
              "      <td>0.463113</td>\n",
              "      <td>NaN</td>\n",
              "      <td>0.222178</td>\n",
              "      <td>0.244710</td>\n",
              "      <td>0.435760</td>\n",
              "      <td>0.435594</td>\n",
              "      <td>0.500059</td>\n",
              "      <td>0.491689</td>\n",
              "      <td>0.383507</td>\n",
              "      <td>0.499533</td>\n",
              "      <td>0.384489</td>\n",
              "      <td>0.436420</td>\n",
              "      <td>0.485530</td>\n",
              "      <td>0.472977</td>\n",
              "      <td>0.498071</td>\n",
              "      <td>0.445836</td>\n",
              "      <td>0.499357</td>\n",
              "      <td>1.747323</td>\n",
              "      <td>2.463844</td>\n",
              "      <td>15.254453</td>\n",
              "      <td>10.975076</td>\n",
              "      <td>6.973678</td>\n",
              "      <td>NaN</td>\n",
              "      <td>NaN</td>\n",
              "      <td>NaN</td>\n",
              "      <td>NaN</td>\n",
              "    </tr>\n",
              "    <tr>\n",
              "      <th>min</th>\n",
              "      <td>5.584120e+05</td>\n",
              "      <td>79.496707</td>\n",
              "      <td>NaN</td>\n",
              "      <td>NaN</td>\n",
              "      <td>NaN</td>\n",
              "      <td>NaN</td>\n",
              "      <td>0.000000</td>\n",
              "      <td>0.000000</td>\n",
              "      <td>NaN</td>\n",
              "      <td>0.000000</td>\n",
              "      <td>0.000000</td>\n",
              "      <td>0.000000</td>\n",
              "      <td>0.000000</td>\n",
              "      <td>0.000000</td>\n",
              "      <td>0.000000</td>\n",
              "      <td>0.000000</td>\n",
              "      <td>0.000000</td>\n",
              "      <td>0.000000</td>\n",
              "      <td>0.000000</td>\n",
              "      <td>0.000000</td>\n",
              "      <td>0.000000</td>\n",
              "      <td>0.000000</td>\n",
              "      <td>0.000000</td>\n",
              "      <td>0.000000</td>\n",
              "      <td>9.100000</td>\n",
              "      <td>19.700000</td>\n",
              "      <td>52.000000</td>\n",
              "      <td>48.000000</td>\n",
              "      <td>151.000000</td>\n",
              "      <td>NaN</td>\n",
              "      <td>NaN</td>\n",
              "      <td>NaN</td>\n",
              "      <td>NaN</td>\n",
              "    </tr>\n",
              "    <tr>\n",
              "      <th>25%</th>\n",
              "      <td>2.485853e+09</td>\n",
              "      <td>950.689008</td>\n",
              "      <td>NaN</td>\n",
              "      <td>NaN</td>\n",
              "      <td>NaN</td>\n",
              "      <td>NaN</td>\n",
              "      <td>0.000000</td>\n",
              "      <td>0.000000</td>\n",
              "      <td>NaN</td>\n",
              "      <td>0.000000</td>\n",
              "      <td>0.000000</td>\n",
              "      <td>0.000000</td>\n",
              "      <td>0.000000</td>\n",
              "      <td>0.000000</td>\n",
              "      <td>0.000000</td>\n",
              "      <td>1.000000</td>\n",
              "      <td>0.000000</td>\n",
              "      <td>1.000000</td>\n",
              "      <td>0.000000</td>\n",
              "      <td>0.000000</td>\n",
              "      <td>0.000000</td>\n",
              "      <td>0.000000</td>\n",
              "      <td>0.000000</td>\n",
              "      <td>0.000000</td>\n",
              "      <td>13.200000</td>\n",
              "      <td>25.800000</td>\n",
              "      <td>88.000000</td>\n",
              "      <td>71.200000</td>\n",
              "      <td>160.000000</td>\n",
              "      <td>NaN</td>\n",
              "      <td>NaN</td>\n",
              "      <td>NaN</td>\n",
              "      <td>NaN</td>\n",
              "    </tr>\n",
              "    <tr>\n",
              "      <th>50%</th>\n",
              "      <td>4.992958e+09</td>\n",
              "      <td>1516.951136</td>\n",
              "      <td>NaN</td>\n",
              "      <td>NaN</td>\n",
              "      <td>NaN</td>\n",
              "      <td>NaN</td>\n",
              "      <td>0.000000</td>\n",
              "      <td>0.000000</td>\n",
              "      <td>NaN</td>\n",
              "      <td>0.000000</td>\n",
              "      <td>0.000000</td>\n",
              "      <td>0.000000</td>\n",
              "      <td>0.000000</td>\n",
              "      <td>1.000000</td>\n",
              "      <td>1.000000</td>\n",
              "      <td>1.000000</td>\n",
              "      <td>1.000000</td>\n",
              "      <td>1.000000</td>\n",
              "      <td>1.000000</td>\n",
              "      <td>1.000000</td>\n",
              "      <td>1.000000</td>\n",
              "      <td>1.000000</td>\n",
              "      <td>1.000000</td>\n",
              "      <td>1.000000</td>\n",
              "      <td>14.500000</td>\n",
              "      <td>27.400000</td>\n",
              "      <td>100.000000</td>\n",
              "      <td>78.900000</td>\n",
              "      <td>165.000000</td>\n",
              "      <td>NaN</td>\n",
              "      <td>NaN</td>\n",
              "      <td>NaN</td>\n",
              "      <td>NaN</td>\n",
              "    </tr>\n",
              "    <tr>\n",
              "      <th>75%</th>\n",
              "      <td>7.524563e+09</td>\n",
              "      <td>7307.056573</td>\n",
              "      <td>NaN</td>\n",
              "      <td>NaN</td>\n",
              "      <td>NaN</td>\n",
              "      <td>NaN</td>\n",
              "      <td>0.000000</td>\n",
              "      <td>1.000000</td>\n",
              "      <td>NaN</td>\n",
              "      <td>0.000000</td>\n",
              "      <td>0.000000</td>\n",
              "      <td>1.000000</td>\n",
              "      <td>1.000000</td>\n",
              "      <td>1.000000</td>\n",
              "      <td>1.000000</td>\n",
              "      <td>1.000000</td>\n",
              "      <td>1.000000</td>\n",
              "      <td>1.000000</td>\n",
              "      <td>1.000000</td>\n",
              "      <td>1.000000</td>\n",
              "      <td>1.000000</td>\n",
              "      <td>1.000000</td>\n",
              "      <td>1.000000</td>\n",
              "      <td>1.000000</td>\n",
              "      <td>15.800000</td>\n",
              "      <td>29.100000</td>\n",
              "      <td>110.000000</td>\n",
              "      <td>86.300000</td>\n",
              "      <td>170.000000</td>\n",
              "      <td>NaN</td>\n",
              "      <td>NaN</td>\n",
              "      <td>NaN</td>\n",
              "      <td>NaN</td>\n",
              "    </tr>\n",
              "    <tr>\n",
              "      <th>max</th>\n",
              "      <td>9.999633e+09</td>\n",
              "      <td>81849.751340</td>\n",
              "      <td>NaN</td>\n",
              "      <td>NaN</td>\n",
              "      <td>NaN</td>\n",
              "      <td>NaN</td>\n",
              "      <td>1.000000</td>\n",
              "      <td>1.000000</td>\n",
              "      <td>NaN</td>\n",
              "      <td>1.000000</td>\n",
              "      <td>1.000000</td>\n",
              "      <td>1.000000</td>\n",
              "      <td>1.000000</td>\n",
              "      <td>1.000000</td>\n",
              "      <td>1.000000</td>\n",
              "      <td>1.000000</td>\n",
              "      <td>1.000000</td>\n",
              "      <td>1.000000</td>\n",
              "      <td>1.000000</td>\n",
              "      <td>1.000000</td>\n",
              "      <td>1.000000</td>\n",
              "      <td>1.000000</td>\n",
              "      <td>1.000000</td>\n",
              "      <td>1.000000</td>\n",
              "      <td>20.300000</td>\n",
              "      <td>35.100000</td>\n",
              "      <td>150.000000</td>\n",
              "      <td>121.000000</td>\n",
              "      <td>186.000000</td>\n",
              "      <td>NaN</td>\n",
              "      <td>NaN</td>\n",
              "      <td>NaN</td>\n",
              "      <td>NaN</td>\n",
              "    </tr>\n",
              "  </tbody>\n",
              "</table>\n",
              "</div>"
            ],
            "text/plain": [
              "             bill_id        amount  ... resident_status date_of_birth\n",
              "count   2.720000e+04  13600.000000  ...            3000          3000\n",
              "unique           NaN           NaN  ...               4          2746\n",
              "top              NaN           NaN  ...     Singaporean    1975-08-20\n",
              "freq             NaN           NaN  ...            1782             4\n",
              "mean    5.007147e+09   5464.767783  ...             NaN           NaN\n",
              "std     2.885866e+09   7717.479509  ...             NaN           NaN\n",
              "min     5.584120e+05     79.496707  ...             NaN           NaN\n",
              "25%     2.485853e+09    950.689008  ...             NaN           NaN\n",
              "50%     4.992958e+09   1516.951136  ...             NaN           NaN\n",
              "75%     7.524563e+09   7307.056573  ...             NaN           NaN\n",
              "max     9.999633e+09  81849.751340  ...             NaN           NaN\n",
              "\n",
              "[11 rows x 33 columns]"
            ]
          },
          "metadata": {
            "tags": []
          },
          "execution_count": 448
        }
      ]
    },
    {
      "cell_type": "code",
      "metadata": {
        "colab": {
          "base_uri": "https://localhost:8080/"
        },
        "id": "WsmUKu0j6nad",
        "outputId": "fdee8cf5-ca48-4a61-995b-15ffe3de4ed8"
      },
      "source": [
        "col = list(df.columns)\n",
        "col"
      ],
      "execution_count": 449,
      "outputs": [
        {
          "output_type": "execute_result",
          "data": {
            "text/plain": [
              "['bill_id',\n",
              " 'amount',\n",
              " 'patient_id',\n",
              " 'date_of_admission',\n",
              " 'id',\n",
              " 'date_of_discharge',\n",
              " 'medical_history_1',\n",
              " 'medical_history_2',\n",
              " 'medical_history_3',\n",
              " 'medical_history_4',\n",
              " 'medical_history_5',\n",
              " 'medical_history_6',\n",
              " 'medical_history_7',\n",
              " 'preop_medication_1',\n",
              " 'preop_medication_2',\n",
              " 'preop_medication_3',\n",
              " 'preop_medication_4',\n",
              " 'preop_medication_5',\n",
              " 'preop_medication_6',\n",
              " 'symptom_1',\n",
              " 'symptom_2',\n",
              " 'symptom_3',\n",
              " 'symptom_4',\n",
              " 'symptom_5',\n",
              " 'lab_result_1',\n",
              " 'lab_result_2',\n",
              " 'lab_result_3',\n",
              " 'weight',\n",
              " 'height',\n",
              " 'gender',\n",
              " 'race',\n",
              " 'resident_status',\n",
              " 'date_of_birth']"
            ]
          },
          "metadata": {
            "tags": []
          },
          "execution_count": 449
        }
      ]
    },
    {
      "cell_type": "code",
      "metadata": {
        "colab": {
          "base_uri": "https://localhost:8080/"
        },
        "id": "Rk071GN56nad",
        "outputId": "24d7ff13-14ac-4d0b-bc9b-9636319d771b"
      },
      "source": [
        "df.columns = col\n",
        "df.columns"
      ],
      "execution_count": 450,
      "outputs": [
        {
          "output_type": "execute_result",
          "data": {
            "text/plain": [
              "Index(['bill_id', 'amount', 'patient_id', 'date_of_admission', 'id',\n",
              "       'date_of_discharge', 'medical_history_1', 'medical_history_2',\n",
              "       'medical_history_3', 'medical_history_4', 'medical_history_5',\n",
              "       'medical_history_6', 'medical_history_7', 'preop_medication_1',\n",
              "       'preop_medication_2', 'preop_medication_3', 'preop_medication_4',\n",
              "       'preop_medication_5', 'preop_medication_6', 'symptom_1', 'symptom_2',\n",
              "       'symptom_3', 'symptom_4', 'symptom_5', 'lab_result_1', 'lab_result_2',\n",
              "       'lab_result_3', 'weight', 'height', 'gender', 'race', 'resident_status',\n",
              "       'date_of_birth'],\n",
              "      dtype='object')"
            ]
          },
          "metadata": {
            "tags": []
          },
          "execution_count": 450
        }
      ]
    },
    {
      "cell_type": "code",
      "metadata": {
        "colab": {
          "base_uri": "https://localhost:8080/"
        },
        "id": "q6jcWK376nad",
        "outputId": "b556f47b-d273-401a-a91c-e30cd652e4d6"
      },
      "source": [
        "# Find Binary Feature | Variables : Features with only two Values (Labels | Classes) :\n",
        "binary_features = []\n",
        "\n",
        "for col in df.columns :\n",
        "    if df[col].value_counts().shape[0] == 2 :\n",
        "        binary_features.append(col)\n",
        "\n",
        "print(f'Binary Feature: {binary_features}')"
      ],
      "execution_count": 451,
      "outputs": [
        {
          "output_type": "stream",
          "text": [
            "Binary Feature: ['medical_history_1', 'medical_history_2', 'medical_history_4', 'medical_history_5', 'medical_history_6', 'medical_history_7', 'preop_medication_1', 'preop_medication_2', 'preop_medication_3', 'preop_medication_4', 'preop_medication_5', 'preop_medication_6', 'symptom_1', 'symptom_2', 'symptom_3', 'symptom_4', 'symptom_5']\n"
          ],
          "name": "stdout"
        }
      ]
    },
    {
      "cell_type": "markdown",
      "metadata": {
        "id": "XPEyjZzTK0bq"
      },
      "source": [
        "###Binary Categorical Features"
      ]
    },
    {
      "cell_type": "code",
      "metadata": {
        "colab": {
          "base_uri": "https://localhost:8080/",
          "height": 574
        },
        "id": "287br0Qa6nae",
        "outputId": "22b14676-efd5-4a4c-8abd-679311ce3af9"
      },
      "source": [
        "fig, axes = plt.subplots(nrows = 2, ncols = 3, figsize = (20,10))\n",
        "\n",
        "sns.countplot(x = 'medical_history_1', data = df, hue = 'medical_history_1', ax = axes[0,0])\n",
        "sns.countplot(x = 'preop_medication_1', data = df, hue = 'preop_medication_1', ax = axes[0,1])\n",
        "sns.countplot(x = 'symptom_1', data = df, hue = 'symptom_1', ax = axes[0,2])\n",
        "sns.countplot(x = 'medical_history_6', data = df, hue = 'medical_history_6', ax = axes[1,0])\n",
        "sns.countplot(x = 'preop_medication_6', data = df, hue = 'preop_medication_6', ax = axes[1,1])\n",
        "sns.countplot(x = 'symptom_5', data = df, hue = 'symptom_5', ax = axes[1,2]);"
      ],
      "execution_count": 452,
      "outputs": [
        {
          "output_type": "display_data",
          "data": {
            "image/png": "[encoded data removed]",
            "text/plain": [
              "<Figure size 1440x720 with 6 Axes>"
            ]
          },
          "metadata": {
            "tags": [],
            "needs_background": "light"
          }
        }
      ]
    },
    {
      "cell_type": "markdown",
      "metadata": {
        "id": "cKxYN9BDLLmr"
      },
      "source": [
        "###Remaining Categorical Data"
      ]
    },
    {
      "cell_type": "code",
      "metadata": {
        "colab": {
          "base_uri": "https://localhost:8080/",
          "height": 279
        },
        "id": "MT2NP3iG6nae",
        "outputId": "2cb400eb-cdc5-4fdd-9470-a47518c13811"
      },
      "source": [
        "sns.countplot(x = 'race', data = df, hue='race');"
      ],
      "execution_count": 453,
      "outputs": [
        {
          "output_type": "display_data",
          "data": {
            "image/png": "[encoded data removed]",
            "text/plain": [
              "<Figure size 432x288 with 1 Axes>"
            ]
          },
          "metadata": {
            "tags": [],
            "needs_background": "light"
          }
        }
      ]
    },
    {
      "cell_type": "code",
      "metadata": {
        "colab": {
          "base_uri": "https://localhost:8080/",
          "height": 280
        },
        "id": "JfjwSchd6naf",
        "outputId": "f4d855d9-c491-4964-b366-d2f04def8231"
      },
      "source": [
        "sns.countplot(x = 'resident_status', data = df, hue = 'resident_status');"
      ],
      "execution_count": 454,
      "outputs": [
        {
          "output_type": "display_data",
          "data": {
            "image/png": "[encoded data removed]",
            "text/plain": [
              "<Figure size 432x288 with 1 Axes>"
            ]
          },
          "metadata": {
            "tags": [],
            "needs_background": "light"
          }
        }
      ]
    },
    {
      "cell_type": "markdown",
      "metadata": {
        "id": "ej9tZZROLZfj"
      },
      "source": [
        "###Continuous Variables"
      ]
    },
    {
      "cell_type": "code",
      "metadata": {
        "colab": {
          "base_uri": "https://localhost:8080/"
        },
        "id": "Ajw44-r-6naf",
        "outputId": "01afa848-df0f-4417-fbc9-6b09c8a3bcac"
      },
      "source": [
        "list(df.select_dtypes('number').columns)"
      ],
      "execution_count": 455,
      "outputs": [
        {
          "output_type": "execute_result",
          "data": {
            "text/plain": [
              "['bill_id',\n",
              " 'amount',\n",
              " 'medical_history_1',\n",
              " 'medical_history_2',\n",
              " 'medical_history_4',\n",
              " 'medical_history_5',\n",
              " 'medical_history_6',\n",
              " 'medical_history_7',\n",
              " 'preop_medication_1',\n",
              " 'preop_medication_2',\n",
              " 'preop_medication_3',\n",
              " 'preop_medication_4',\n",
              " 'preop_medication_5',\n",
              " 'preop_medication_6',\n",
              " 'symptom_1',\n",
              " 'symptom_2',\n",
              " 'symptom_3',\n",
              " 'symptom_4',\n",
              " 'symptom_5',\n",
              " 'lab_result_1',\n",
              " 'lab_result_2',\n",
              " 'lab_result_3',\n",
              " 'weight',\n",
              " 'height']"
            ]
          },
          "metadata": {
            "tags": []
          },
          "execution_count": 455
        }
      ]
    },
    {
      "cell_type": "code",
      "metadata": {
        "colab": {
          "base_uri": "https://localhost:8080/",
          "height": 334
        },
        "id": "Nbu8bfoD6naf",
        "outputId": "0be2468b-74e5-493b-af6c-3ce491c06dfa"
      },
      "source": [
        "sns.distplot(df['amount']);"
      ],
      "execution_count": 456,
      "outputs": [
        {
          "output_type": "stream",
          "text": [
            "/usr/local/lib/python3.7/dist-packages/seaborn/distributions.py:2557: FutureWarning: `distplot` is a deprecated function and will be removed in a future version. Please adapt your code to use either `displot` (a figure-level function with similar flexibility) or `histplot` (an axes-level function for histograms).\n",
            "  warnings.warn(msg, FutureWarning)\n"
          ],
          "name": "stderr"
        },
        {
          "output_type": "display_data",
          "data": {
            "image/png": "[encoded data removed]",
            "text/plain": [
              "<Figure size 432x288 with 1 Axes>"
            ]
          },
          "metadata": {
            "tags": [],
            "needs_background": "light"
          }
        }
      ]
    },
    {
      "cell_type": "code",
      "metadata": {
        "colab": {
          "base_uri": "https://localhost:8080/",
          "height": 333
        },
        "id": "XaYQ4H3N6naf",
        "outputId": "65a62515-b27d-4b88-dc37-0f5c35385604"
      },
      "source": [
        "sns.distplot(df['weight']);"
      ],
      "execution_count": 457,
      "outputs": [
        {
          "output_type": "stream",
          "text": [
            "/usr/local/lib/python3.7/dist-packages/seaborn/distributions.py:2557: FutureWarning: `distplot` is a deprecated function and will be removed in a future version. Please adapt your code to use either `displot` (a figure-level function with similar flexibility) or `histplot` (an axes-level function for histograms).\n",
            "  warnings.warn(msg, FutureWarning)\n"
          ],
          "name": "stderr"
        },
        {
          "output_type": "display_data",
          "data": {
            "image/png": "[encoded data removed]",
            "text/plain": [
              "<Figure size 432x288 with 1 Axes>"
            ]
          },
          "metadata": {
            "tags": [],
            "needs_background": "light"
          }
        }
      ]
    },
    {
      "cell_type": "code",
      "metadata": {
        "colab": {
          "base_uri": "https://localhost:8080/",
          "height": 333
        },
        "id": "Mg0vDgxl6nag",
        "outputId": "974b6db4-daad-40d5-beae-a1b3a007edab"
      },
      "source": [
        "sns.distplot(df['height']);"
      ],
      "execution_count": 458,
      "outputs": [
        {
          "output_type": "stream",
          "text": [
            "/usr/local/lib/python3.7/dist-packages/seaborn/distributions.py:2557: FutureWarning: `distplot` is a deprecated function and will be removed in a future version. Please adapt your code to use either `displot` (a figure-level function with similar flexibility) or `histplot` (an axes-level function for histograms).\n",
            "  warnings.warn(msg, FutureWarning)\n"
          ],
          "name": "stderr"
        },
        {
          "output_type": "display_data",
          "data": {
            "image/png": "[encoded data removed]",
            "text/plain": [
              "<Figure size 432x288 with 1 Axes>"
            ]
          },
          "metadata": {
            "tags": [],
            "needs_background": "light"
          }
        }
      ]
    },
    {
      "cell_type": "code",
      "metadata": {
        "colab": {
          "base_uri": "https://localhost:8080/",
          "height": 334
        },
        "id": "RCLupBz76nag",
        "outputId": "1a1ecf53-32bf-4922-e77e-c4d62ce33935"
      },
      "source": [
        "sns.distplot(df['lab_result_1']);"
      ],
      "execution_count": 459,
      "outputs": [
        {
          "output_type": "stream",
          "text": [
            "/usr/local/lib/python3.7/dist-packages/seaborn/distributions.py:2557: FutureWarning: `distplot` is a deprecated function and will be removed in a future version. Please adapt your code to use either `displot` (a figure-level function with similar flexibility) or `histplot` (an axes-level function for histograms).\n",
            "  warnings.warn(msg, FutureWarning)\n"
          ],
          "name": "stderr"
        },
        {
          "output_type": "display_data",
          "data": {
            "image/png": "[encoded data removed]",
            "text/plain": [
              "<Figure size 432x288 with 1 Axes>"
            ]
          },
          "metadata": {
            "tags": [],
            "needs_background": "light"
          }
        }
      ]
    },
    {
      "cell_type": "code",
      "metadata": {
        "colab": {
          "base_uri": "https://localhost:8080/",
          "height": 334
        },
        "id": "_IFMzQYW6nag",
        "outputId": "813e62c1-e51a-4970-9eb4-0e6c07676599"
      },
      "source": [
        "sns.distplot(df['lab_result_2']);"
      ],
      "execution_count": 460,
      "outputs": [
        {
          "output_type": "stream",
          "text": [
            "/usr/local/lib/python3.7/dist-packages/seaborn/distributions.py:2557: FutureWarning: `distplot` is a deprecated function and will be removed in a future version. Please adapt your code to use either `displot` (a figure-level function with similar flexibility) or `histplot` (an axes-level function for histograms).\n",
            "  warnings.warn(msg, FutureWarning)\n"
          ],
          "name": "stderr"
        },
        {
          "output_type": "display_data",
          "data": {
            "image/png": "[encoded data removed]",
            "text/plain": [
              "<Figure size 432x288 with 1 Axes>"
            ]
          },
          "metadata": {
            "tags": [],
            "needs_background": "light"
          }
        }
      ]
    },
    {
      "cell_type": "code",
      "metadata": {
        "colab": {
          "base_uri": "https://localhost:8080/",
          "height": 334
        },
        "id": "BQuvMiqP6nag",
        "outputId": "e036f234-819a-44a3-ae6b-70b37d71a867"
      },
      "source": [
        "sns.distplot(df['lab_result_3']);"
      ],
      "execution_count": 461,
      "outputs": [
        {
          "output_type": "stream",
          "text": [
            "/usr/local/lib/python3.7/dist-packages/seaborn/distributions.py:2557: FutureWarning: `distplot` is a deprecated function and will be removed in a future version. Please adapt your code to use either `displot` (a figure-level function with similar flexibility) or `histplot` (an axes-level function for histograms).\n",
            "  warnings.warn(msg, FutureWarning)\n"
          ],
          "name": "stderr"
        },
        {
          "output_type": "display_data",
          "data": {
            "image/png": "[encoded data removed]",
            "text/plain": [
              "<Figure size 432x288 with 1 Axes>"
            ]
          },
          "metadata": {
            "tags": [],
            "needs_background": "light"
          }
        }
      ]
    },
    {
      "cell_type": "code",
      "metadata": {
        "id": "WB_MRLOL6nah"
      },
      "source": [
        "df['bill_id'].fillna(int(df['bill_id'].mean()), inplace=True)\n",
        "df['amount'].fillna(int(df['amount'].mean()), inplace=True)\n",
        "df['medical_history_1'].fillna(int(df['medical_history_1'].mean()), inplace=True)\n",
        "df['preop_medication_1'].fillna(int(df['preop_medication_1'].mean()), inplace=True)\n",
        "df['lab_result_3'].fillna(int(df['lab_result_3'].mean()), inplace=True)\n",
        "df['lab_result_1'].fillna(int(df['lab_result_1'].mean()), inplace=True)\n",
        "df['lab_result_2'].fillna(int(df['lab_result_2'].mean()), inplace=True)"
      ],
      "execution_count": 462,
      "outputs": []
    },
    {
      "cell_type": "markdown",
      "metadata": {
        "id": "gGFy-UiPNbKL"
      },
      "source": [
        "###Sweetviz\n",
        "Beautiful and High Density Visualizations for Exploratory Data Analysis\n",
        "\n",
        "import sweetviz as sv\n",
        "\n",
        "eda = sv.analyze([df, \"data\"],target_feat='medical_history_1')\n",
        "\n",
        "eda.show_html('Report.html')"
      ]
    },
    {
      "cell_type": "code",
      "metadata": {
        "id": "ETLFXhLULZAJ"
      },
      "source": [
        "data = df.drop(['medical_history_2','medical_history_4','medical_history_5','medical_history_6','date_of_birth','gender','race','resident_status','date_of_discharge','medical_history_3','medical_history_7','preop_medication_2','preop_medication_3','preop_medication_4','preop_medication_5','preop_medication_6','symptom_1','symptom_2','symptom_3','symptom_4','symptom_5','weight','height','patient_id', 'date_of_admission', 'id'],axis = 1)"
      ],
      "execution_count": 464,
      "outputs": []
    },
    {
      "cell_type": "code",
      "metadata": {
        "id": "s3ROF8bQ6nai"
      },
      "source": [
        "from sklearn.preprocessing import MinMaxScaler\n",
        "\n",
        "scaler = MinMaxScaler()\n",
        "\n",
        "data['bill_id'] = scaler.fit_transform(data[['bill_id']])\n",
        "\n",
        "data['amount'] = scaler.fit_transform(data[['amount']])\n",
        "\n",
        "X = data\n"
      ],
      "execution_count": 466,
      "outputs": []
    },
    {
      "cell_type": "code",
      "metadata": {
        "colab": {
          "base_uri": "https://localhost:8080/"
        },
        "id": "An56gSB1LNft",
        "outputId": "e7661b35-2bd3-49dc-de56-5c6d2822ecf9"
      },
      "source": [
        "X.dtypes"
      ],
      "execution_count": 467,
      "outputs": [
        {
          "output_type": "execute_result",
          "data": {
            "text/plain": [
              "bill_id               float64\n",
              "amount                float64\n",
              "medical_history_1     float64\n",
              "preop_medication_1    float64\n",
              "lab_result_1          float64\n",
              "lab_result_2          float64\n",
              "lab_result_3          float64\n",
              "dtype: object"
            ]
          },
          "metadata": {
            "tags": []
          },
          "execution_count": 467
        }
      ]
    },
    {
      "cell_type": "code",
      "metadata": {
        "colab": {
          "base_uri": "https://localhost:8080/"
        },
        "id": "tT_PTKzT5Xu8",
        "outputId": "72426f27-1901-4bd3-b284-09d04b3dee2c"
      },
      "source": [
        "X.isnull().sum()\n"
      ],
      "execution_count": 468,
      "outputs": [
        {
          "output_type": "execute_result",
          "data": {
            "text/plain": [
              "bill_id               0\n",
              "amount                0\n",
              "medical_history_1     0\n",
              "preop_medication_1    0\n",
              "lab_result_1          0\n",
              "lab_result_2          0\n",
              "lab_result_3          0\n",
              "dtype: int64"
            ]
          },
          "metadata": {
            "tags": []
          },
          "execution_count": 468
        }
      ]
    },
    {
      "cell_type": "code",
      "metadata": {
        "colab": {
          "base_uri": "https://localhost:8080/",
          "height": 402
        },
        "id": "t7vPU8C0A-_L",
        "outputId": "389e4e66-43fa-44a5-9c8f-a824f7b496a6"
      },
      "source": [
        "X.astype(int)"
      ],
      "execution_count": 469,
      "outputs": [
        {
          "output_type": "execute_result",
          "data": {
            "text/html": [
              "<div>\n",
              "<style scoped>\n",
              "    .dataframe tbody tr th:only-of-type {\n",
              "        vertical-align: middle;\n",
              "    }\n",
              "\n",
              "    .dataframe tbody tr th {\n",
              "        vertical-align: top;\n",
              "    }\n",
              "\n",
              "    .dataframe thead th {\n",
              "        text-align: right;\n",
              "    }\n",
              "</style>\n",
              "<table border=\"1\" class=\"dataframe\">\n",
              "  <thead>\n",
              "    <tr style=\"text-align: right;\">\n",
              "      <th></th>\n",
              "      <th>bill_id</th>\n",
              "      <th>amount</th>\n",
              "      <th>medical_history_1</th>\n",
              "      <th>preop_medication_1</th>\n",
              "      <th>lab_result_1</th>\n",
              "      <th>lab_result_2</th>\n",
              "      <th>lab_result_3</th>\n",
              "    </tr>\n",
              "  </thead>\n",
              "  <tbody>\n",
              "    <tr>\n",
              "      <th>0</th>\n",
              "      <td>0</td>\n",
              "      <td>0</td>\n",
              "      <td>0</td>\n",
              "      <td>0</td>\n",
              "      <td>14</td>\n",
              "      <td>27</td>\n",
              "      <td>99</td>\n",
              "    </tr>\n",
              "    <tr>\n",
              "      <th>1</th>\n",
              "      <td>0</td>\n",
              "      <td>0</td>\n",
              "      <td>0</td>\n",
              "      <td>0</td>\n",
              "      <td>14</td>\n",
              "      <td>27</td>\n",
              "      <td>99</td>\n",
              "    </tr>\n",
              "    <tr>\n",
              "      <th>2</th>\n",
              "      <td>0</td>\n",
              "      <td>0</td>\n",
              "      <td>0</td>\n",
              "      <td>0</td>\n",
              "      <td>14</td>\n",
              "      <td>27</td>\n",
              "      <td>99</td>\n",
              "    </tr>\n",
              "    <tr>\n",
              "      <th>3</th>\n",
              "      <td>0</td>\n",
              "      <td>0</td>\n",
              "      <td>0</td>\n",
              "      <td>0</td>\n",
              "      <td>14</td>\n",
              "      <td>27</td>\n",
              "      <td>99</td>\n",
              "    </tr>\n",
              "    <tr>\n",
              "      <th>4</th>\n",
              "      <td>0</td>\n",
              "      <td>0</td>\n",
              "      <td>0</td>\n",
              "      <td>0</td>\n",
              "      <td>14</td>\n",
              "      <td>27</td>\n",
              "      <td>99</td>\n",
              "    </tr>\n",
              "    <tr>\n",
              "      <th>...</th>\n",
              "      <td>...</td>\n",
              "      <td>...</td>\n",
              "      <td>...</td>\n",
              "      <td>...</td>\n",
              "      <td>...</td>\n",
              "      <td>...</td>\n",
              "      <td>...</td>\n",
              "    </tr>\n",
              "    <tr>\n",
              "      <th>2995</th>\n",
              "      <td>0</td>\n",
              "      <td>0</td>\n",
              "      <td>0</td>\n",
              "      <td>0</td>\n",
              "      <td>14</td>\n",
              "      <td>27</td>\n",
              "      <td>99</td>\n",
              "    </tr>\n",
              "    <tr>\n",
              "      <th>2996</th>\n",
              "      <td>0</td>\n",
              "      <td>0</td>\n",
              "      <td>0</td>\n",
              "      <td>0</td>\n",
              "      <td>14</td>\n",
              "      <td>27</td>\n",
              "      <td>99</td>\n",
              "    </tr>\n",
              "    <tr>\n",
              "      <th>2997</th>\n",
              "      <td>0</td>\n",
              "      <td>0</td>\n",
              "      <td>0</td>\n",
              "      <td>0</td>\n",
              "      <td>14</td>\n",
              "      <td>27</td>\n",
              "      <td>99</td>\n",
              "    </tr>\n",
              "    <tr>\n",
              "      <th>2998</th>\n",
              "      <td>0</td>\n",
              "      <td>0</td>\n",
              "      <td>0</td>\n",
              "      <td>0</td>\n",
              "      <td>14</td>\n",
              "      <td>27</td>\n",
              "      <td>99</td>\n",
              "    </tr>\n",
              "    <tr>\n",
              "      <th>2999</th>\n",
              "      <td>0</td>\n",
              "      <td>0</td>\n",
              "      <td>0</td>\n",
              "      <td>0</td>\n",
              "      <td>14</td>\n",
              "      <td>27</td>\n",
              "      <td>99</td>\n",
              "    </tr>\n",
              "  </tbody>\n",
              "</table>\n",
              "<p>33600 rows × 7 columns</p>\n",
              "</div>"
            ],
            "text/plain": [
              "      bill_id  amount  ...  lab_result_2  lab_result_3\n",
              "0           0       0  ...            27            99\n",
              "1           0       0  ...            27            99\n",
              "2           0       0  ...            27            99\n",
              "3           0       0  ...            27            99\n",
              "4           0       0  ...            27            99\n",
              "...       ...     ...  ...           ...           ...\n",
              "2995        0       0  ...            27            99\n",
              "2996        0       0  ...            27            99\n",
              "2997        0       0  ...            27            99\n",
              "2998        0       0  ...            27            99\n",
              "2999        0       0  ...            27            99\n",
              "\n",
              "[33600 rows x 7 columns]"
            ]
          },
          "metadata": {
            "tags": []
          },
          "execution_count": 469
        }
      ]
    },
    {
      "cell_type": "code",
      "metadata": {
        "colab": {
          "base_uri": "https://localhost:8080/"
        },
        "id": "OJLAgRPB6nai",
        "outputId": "076dbb53-96c7-44ec-bbad-68b8db1a95b2"
      },
      "source": [
        "X['medical_history_1'].value_counts()"
      ],
      "execution_count": 470,
      "outputs": [
        {
          "output_type": "execute_result",
          "data": {
            "text/plain": [
              "0.0    33025\n",
              "1.0      575\n",
              "Name: medical_history_1, dtype: int64"
            ]
          },
          "metadata": {
            "tags": []
          },
          "execution_count": 470
        }
      ]
    },
    {
      "cell_type": "code",
      "metadata": {
        "id": "XmHlivXy6naj"
      },
      "source": [
        "x = X.drop('medical_history_1', axis = 1)\n",
        "y = X['medical_history_1']\n",
        "\n",
        "# Train Test Split\n",
        "from sklearn.model_selection import train_test_split\n",
        "\n",
        "x_train, x_test, y_train, y_test = train_test_split(x,y,test_size = 0.2, random_state = 42)"
      ],
      "execution_count": 471,
      "outputs": []
    },
    {
      "cell_type": "code",
      "metadata": {
        "id": "zWuFmkCs6naj"
      },
      "source": [
        "from sklearn.linear_model import RidgeClassifier\n",
        "from sklearn.metrics import accuracy_score, confusion_matrix"
      ],
      "execution_count": 472,
      "outputs": []
    },
    {
      "cell_type": "code",
      "metadata": {
        "id": "7oyIfjzwZ4uo"
      },
      "source": [
        "ridge_classifier = RidgeClassifier().fit(x_train, y_train)"
      ],
      "execution_count": 473,
      "outputs": []
    },
    {
      "cell_type": "code",
      "metadata": {
        "colab": {
          "base_uri": "https://localhost:8080/"
        },
        "id": "i-3qjXMyZ8ju",
        "outputId": "ac0f03bf-9a02-453e-89ad-8555c4b392f5"
      },
      "source": [
        "y_prediction = ridge_classifier.predict(x_train)\n",
        "\n",
        "print(f'Accuracy of Ridge Classifier on Train Set : {accuracy_score(y_train, y_prediction)*100:.2f}%')"
      ],
      "execution_count": 474,
      "outputs": [
        {
          "output_type": "stream",
          "text": [
            "Accuracy of Ridge Classifier on Train Set : 98.33%\n"
          ],
          "name": "stdout"
        }
      ]
    },
    {
      "cell_type": "markdown",
      "metadata": {
        "id": "WMbasgCQOdgG"
      },
      "source": [
        "Model Evaluation "
      ]
    },
    {
      "cell_type": "code",
      "metadata": {
        "colab": {
          "base_uri": "https://localhost:8080/"
        },
        "id": "yi1yfxW-OfrZ",
        "outputId": "09f65ddf-5241-4592-c4f8-2fdd21608aaa"
      },
      "source": [
        "y_prediction = ridge_classifier.predict(x_test)\n",
        "\n",
        "print(f'Accuracy of Ridge Classifier on Test Set : {accuracy_score(y_test, y_prediction)*100:.2f}%')"
      ],
      "execution_count": 480,
      "outputs": [
        {
          "output_type": "stream",
          "text": [
            "Accuracy of Ridge Classifier on Test Set : 98.12%\n"
          ],
          "name": "stdout"
        }
      ]
    },
    {
      "cell_type": "markdown",
      "metadata": {
        "id": "QJ35jswHOnkr"
      },
      "source": [
        " by trying Different Model"
      ]
    },
    {
      "cell_type": "markdown",
      "metadata": {
        "id": "Wi-pO7JBOyep"
      },
      "source": [
        "Random Forest Classifier"
      ]
    },
    {
      "cell_type": "code",
      "metadata": {
        "colab": {
          "base_uri": "https://localhost:8080/"
        },
        "id": "Mqt_X2Bj96zZ",
        "outputId": "10e7286c-d189-4a7a-8dd4-e3824dbed284"
      },
      "source": [
        "from sklearn.ensemble import RandomForestClassifier\n",
        "\n",
        "rfc = RandomForestClassifier(n_estimators = 100, max_depth = 10).fit(x_train, y_train)\n",
        "\n",
        "y_prediction = rfc.predict(x_train)\n",
        "\n",
        "print(f'Accuracy of Random Forest Classifier on Train Set : {accuracy_score(y_train, y_prediction)*100:.2f}%')\n",
        "\n",
        "y_prediction = rfc.predict(x_test)\n",
        "\n",
        "print(f'Accuracy of Random Forest Classifier on Test Set : {accuracy_score(y_test, y_prediction)*100:.2f}%')"
      ],
      "execution_count": 475,
      "outputs": [
        {
          "output_type": "stream",
          "text": [
            "Accuracy of Random Forest Classifier on Train Set : 98.49%\n",
            "Accuracy of Random Forest Classifier on Test Set : 98.07%\n"
          ],
          "name": "stdout"
        }
      ]
    },
    {
      "cell_type": "markdown",
      "metadata": {
        "id": "AoegcAF3PByx"
      },
      "source": [
        "Accuracy on Training Set is  more that Represents Overfitting.\n",
        "\n",
        "We can Decrease the Depth of the Tree to Prevent Model from Overfitting, \n",
        "\n",
        "We Must Carefully Optimize the Parameters, Parameter Tuning is Very Critical Part.\n",
        "\n",
        "We can Increase the Number of Trees which will Help the Model to be more Generalized and Reduce Overfitting.\n",
        "\n",
        "Another way is to do Cross Validation which Allows to Use Every Sample in Train Set and Test Set.\n",
        "\n",
        "##Grid Search Cross Validation\n"
      ]
    },
    {
      "cell_type": "code",
      "metadata": {
        "id": "cDMaqqENCyEQ"
      },
      "source": [
        "from sklearn.model_selection import GridSearchCV\n",
        "\n",
        "parameters  = {'n_estimators' : [150, 200, 250, 300], 'max_depth' : [15, 20, 25]}\n",
        "\n",
        "gsv_rfc = GridSearchCV(estimator = rfc, param_grid = parameters, n_jobs = -1, cv = 5).fit(x_train,y_train)"
      ],
      "execution_count": 476,
      "outputs": []
    },
    {
      "cell_type": "code",
      "metadata": {
        "colab": {
          "base_uri": "https://localhost:8080/"
        },
        "id": "Q-LVoVTcDFdt",
        "outputId": "850b9137-3ee1-4c1a-d8ed-e24c204e0dc9"
      },
      "source": [
        "# Best Parameters :\n",
        "\n",
        "gsv_rfc.best_params_"
      ],
      "execution_count": 477,
      "outputs": [
        {
          "output_type": "execute_result",
          "data": {
            "text/plain": [
              "{'max_depth': 15, 'n_estimators': 150}"
            ]
          },
          "metadata": {
            "tags": []
          },
          "execution_count": 477
        }
      ]
    },
    {
      "cell_type": "code",
      "metadata": {
        "colab": {
          "base_uri": "https://localhost:8080/"
        },
        "id": "hJo3i0JiDQsw",
        "outputId": "b3f5feb7-1fef-4b9c-abb2-c31dfeee2f9c"
      },
      "source": [
        "# Best Score :\n",
        "\n",
        "print(f'Best Accuracy Score obtained from Grid Search Cross Validation : {gsv_rfc.best_score_*100:.2f}%')"
      ],
      "execution_count": 478,
      "outputs": [
        {
          "output_type": "stream",
          "text": [
            "Best Accuracy Score obtained from Grid Search Cross Validation : 98.26%\n"
          ],
          "name": "stdout"
        }
      ]
    },
    {
      "cell_type": "code",
      "metadata": {
        "colab": {
          "base_uri": "https://localhost:8080/"
        },
        "id": "2cUFAnPXDS4N",
        "outputId": "aecbe597-5dba-49a9-f0ff-8f1d64050825"
      },
      "source": [
        "gsv_rfc = GridSearchCV(estimator = rfc, param_grid = parameters, n_jobs = -1, cv = 5).fit(x,y)\n",
        "\n",
        "print(f'Best Accuracy Score obtained from Grid Search Cross Validation : {gsv_rfc.best_score_*100:.2f}%')"
      ],
      "execution_count": 479,
      "outputs": [
        {
          "output_type": "stream",
          "text": [
            "Best Accuracy Score obtained from Grid Search Cross Validation : 90.24%\n"
          ],
          "name": "stdout"
        }
      ]
    },
    {
      "cell_type": "markdown",
      "metadata": {
        "id": "iZhhQJrRPyv5"
      },
      "source": [
        "###Linear Regression"
      ]
    },
    {
      "cell_type": "code",
      "metadata": {
        "colab": {
          "base_uri": "https://localhost:8080/"
        },
        "id": "AdnWiDmHQYuk",
        "outputId": "4f825764-5fbc-486f-9efc-54b6e71752c8"
      },
      "source": [
        "from sklearn.linear_model import LinearRegression\n",
        "lm=LinearRegression()\n",
        "lm.fit(x_train,y_train)"
      ],
      "execution_count": 482,
      "outputs": [
        {
          "output_type": "execute_result",
          "data": {
            "text/plain": [
              "LinearRegression(copy_X=True, fit_intercept=True, n_jobs=None, normalize=False)"
            ]
          },
          "metadata": {
            "tags": []
          },
          "execution_count": 482
        }
      ]
    },
    {
      "cell_type": "code",
      "metadata": {
        "id": "d7hmWXCLQZtF"
      },
      "source": [
        "predictions=lm.predict(x_test)"
      ],
      "execution_count": 483,
      "outputs": []
    },
    {
      "cell_type": "code",
      "metadata": {
        "id": "Pg2YQfd-Qgci"
      },
      "source": [
        "seed = 10\n",
        "test_size = 0.25\n",
        "trainingSet, testingSet = train_test_split(X, test_size = test_size, random_state = seed)"
      ],
      "execution_count": 484,
      "outputs": []
    },
    {
      "cell_type": "code",
      "metadata": {
        "colab": {
          "base_uri": "https://localhost:8080/"
        },
        "id": "ZEaiMHDYQmua",
        "outputId": "2cbce86c-57cb-4a76-b6d6-0158ba3cd70f"
      },
      "source": [
        "trainingSet.shape , testingSet.shape , X.shape"
      ],
      "execution_count": 485,
      "outputs": [
        {
          "output_type": "execute_result",
          "data": {
            "text/plain": [
              "((25200, 7), (8400, 7), (33600, 7))"
            ]
          },
          "metadata": {
            "tags": []
          },
          "execution_count": 485
        }
      ]
    },
    {
      "cell_type": "code",
      "metadata": {
        "id": "Ze1O1hvOQsJn"
      },
      "source": [
        "from sklearn.model_selection import KFold, cross_val_score\n",
        "kfold = KFold(n_splits=10, random_state=None)\n",
        "model = LinearRegression()"
      ],
      "execution_count": 486,
      "outputs": []
    },
    {
      "cell_type": "code",
      "metadata": {
        "id": "JHbF5hpcQxFG"
      },
      "source": [
        "import statsmodels.formula.api as smf"
      ],
      "execution_count": 487,
      "outputs": []
    },
    {
      "cell_type": "code",
      "metadata": {
        "colab": {
          "base_uri": "https://localhost:8080/"
        },
        "id": "D2l_i1QVQ0jl",
        "outputId": "1ab4507d-9131-439c-91bb-45f426db3015"
      },
      "source": [
        "model_1 = smf.ols(formula = \"\"\"medical_history_1 ~ bill_id+amount\t+preop_medication_1\n",
        "                            +lab_result_1+lab_result_2+lab_result_3 \"\"\", data = trainingSet)\n",
        "result_1 = model_1.fit()\n",
        "print(result_1.summary())"
      ],
      "execution_count": 488,
      "outputs": [
        {
          "output_type": "stream",
          "text": [
            "                            OLS Regression Results                            \n",
            "==============================================================================\n",
            "Dep. Variable:      medical_history_1   R-squared:                       0.076\n",
            "Model:                            OLS   Adj. R-squared:                  0.075\n",
            "Method:                 Least Squares   F-statistic:                     343.6\n",
            "Date:                Mon, 17 May 2021   Prob (F-statistic):               0.00\n",
            "Time:                        17:00:28   Log-Likelihood:                 16946.\n",
            "No. Observations:               25200   AIC:                        -3.388e+04\n",
            "Df Residuals:                   25193   BIC:                        -3.382e+04\n",
            "Df Model:                           6                                         \n",
            "Covariance Type:            nonrobust                                         \n",
            "======================================================================================\n",
            "                         coef    std err          t      P>|t|      [0.025      0.975]\n",
            "--------------------------------------------------------------------------------------\n",
            "Intercept             -0.2842      0.036     -7.814      0.000      -0.355      -0.213\n",
            "bill_id            -8.816e-06      0.003     -0.003      0.998      -0.006       0.006\n",
            "amount                -0.0002      0.013     -0.018      0.986      -0.026       0.025\n",
            "preop_medication_1     0.1473      0.004     40.906      0.000       0.140       0.154\n",
            "lab_result_1           0.0132      0.001      9.513      0.000       0.011       0.016\n",
            "lab_result_2           0.0046      0.001      4.599      0.000       0.003       0.007\n",
            "lab_result_3          -0.0002      0.000     -1.021      0.307      -0.000       0.000\n",
            "==============================================================================\n",
            "Omnibus:                    30321.054   Durbin-Watson:                   2.004\n",
            "Prob(Omnibus):                  0.000   Jarque-Bera (JB):          2653049.727\n",
            "Skew:                           6.718   Prob(JB):                         0.00\n",
            "Kurtosis:                      51.438   Cond. No.                     4.85e+03\n",
            "==============================================================================\n",
            "\n",
            "Warnings:\n",
            "[1] Standard Errors assume that the covariance matrix of the errors is correctly specified.\n",
            "[2] The condition number is large, 4.85e+03. This might indicate that there are\n",
            "strong multicollinearity or other numerical problems.\n"
          ],
          "name": "stdout"
        }
      ]
    },
    {
      "cell_type": "code",
      "metadata": {
        "colab": {
          "base_uri": "https://localhost:8080/"
        },
        "id": "RB1gaOiBRcsD",
        "outputId": "406019a2-dfc3-44d3-93c0-2e1035d30503"
      },
      "source": [
        "#Calculating trainingset MSE/RMSE for model_1\n",
        "y_hat2 = result_1.predict(trainingSet[['bill_id','amount','preop_medication_1',\n",
        "                                             'lab_result_1','lab_result_2','lab_result_3']])\n",
        "train_MSE = np.mean(((trainingSet.medical_history_1 - y_hat2)**2))\n",
        "print(\"Training RMSE = \", np.sqrt(train_MSE))"
      ],
      "execution_count": 490,
      "outputs": [
        {
          "output_type": "stream",
          "text": [
            "Training RMSE =  0.12351292452128776\n"
          ],
          "name": "stdout"
        }
      ]
    },
    {
      "cell_type": "code",
      "metadata": {
        "colab": {
          "base_uri": "https://localhost:8080/"
        },
        "id": "bE_CD-aGSb0e",
        "outputId": "aae394c2-dfad-48d9-f402-eba5f862311c"
      },
      "source": [
        "print(\"MSE = \", mean_squared_error(trainingSet.medical_history_1, y_hat2))\n",
        "print(\"Training RMSE = \", np.sqrt(mean_squared_error(trainingSet.medical_history_1, y_hat2)))\n",
        "print(result_1.mse_resid)  # MSE of residues\n",
        "print(\"R_squared = \",result_1.rsquared)   # R_squared value\n",
        "print(\"Adjusted R_squared = \",result_1.rsquared_adj)  # Adjusted R_Squared"
      ],
      "execution_count": 491,
      "outputs": [
        {
          "output_type": "stream",
          "text": [
            "MSE =  0.015255442523801928\n",
            "Training RMSE =  0.12351292452129019\n",
            "0.015259681324169747\n",
            "R_squared =  0.07564923845857108\n",
            "Adjusted R_squared =  0.07542909379262219\n"
          ],
          "name": "stdout"
        }
      ]
    },
    {
      "cell_type": "code",
      "metadata": {
        "colab": {
          "base_uri": "https://localhost:8080/",
          "height": 449
        },
        "id": "M9ywkRB6S3NQ",
        "outputId": "04d1e4f9-eacc-4cd1-c31f-98f6621903ae"
      },
      "source": [
        "X.hist()"
      ],
      "execution_count": 492,
      "outputs": [
        {
          "output_type": "execute_result",
          "data": {
            "text/plain": [
              "array([[<matplotlib.axes._subplots.AxesSubplot object at 0x7f6e77d5a210>,\n",
              "        <matplotlib.axes._subplots.AxesSubplot object at 0x7f6e784f6750>,\n",
              "        <matplotlib.axes._subplots.AxesSubplot object at 0x7f6e76fa4cd0>],\n",
              "       [<matplotlib.axes._subplots.AxesSubplot object at 0x7f6e76fc7110>,\n",
              "        <matplotlib.axes._subplots.AxesSubplot object at 0x7f6e77b82310>,\n",
              "        <matplotlib.axes._subplots.AxesSubplot object at 0x7f6e77be58d0>],\n",
              "       [<matplotlib.axes._subplots.AxesSubplot object at 0x7f6e77e2dc90>,\n",
              "        <matplotlib.axes._subplots.AxesSubplot object at 0x7f6e77a2e810>,\n",
              "        <matplotlib.axes._subplots.AxesSubplot object at 0x7f6e77a2ec50>]],\n",
              "      dtype=object)"
            ]
          },
          "metadata": {
            "tags": []
          },
          "execution_count": 492
        },
        {
          "output_type": "display_data",
          "data": {
            "image/png": "[encoded data removed]",
            "text/plain": [
              "<Figure size 432x288 with 9 Axes>"
            ]
          },
          "metadata": {
            "tags": [],
            "needs_background": "light"
          }
        }
      ]
    },
    {
      "cell_type": "code",
      "metadata": {
        "id": "DRT4IbiiS5W_"
      },
      "source": [
        ""
      ],
      "execution_count": null,
      "outputs": []
    }
  ]
}